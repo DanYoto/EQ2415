{
 "cells": [
  {
   "cell_type": "markdown",
   "id": "28e26bbd",
   "metadata": {},
   "source": [
    "# Project 1: Image recognition \n",
    "**EQ2415 Machine learning for data science**\n",
    "\n",
    "Perform all (or as many as you can) of the tasks in this project assignment. You are going to present your work to the course responsible or one of the teaching assistants (TA) and it pays off to have a clear, well structured and brief notebook. Include an algorithmic solution and/or numerical result and/or a graph illustrating your results. Your code should be functioning and easy to read.\n",
    "\n",
    "**Objective**\n",
    "The goal of this project is to implement the inference methods introduced in Tutorials 1 to 5, for an image recognition problems.\n",
    "\n",
    "**Dataset**\n",
    "We will use a standard image recognition dataset, the MNIST dataset, originally used in this [paper](https://arxiv.org/pdf/1102.0183.pdf).\n",
    "Today the dataset is widely used and can save some data preparation time by downloading it directly from the scikit-learn library. \n",
    "\n",
    "**Tasks**\n",
    "The coding and discussion tasks are indicated through out the notebook."
   ]
  },
  {
   "cell_type": "code",
   "execution_count": 1,
   "id": "0e7c8f92",
   "metadata": {},
   "outputs": [],
   "source": [
    "from sklearn.datasets import load_digits,make_moons\n",
    "import matplotlib.pyplot as plt\n",
    "import numpy as np\n",
    "import pandas as pd\n",
    "import cvxopt\n",
    "import sklearn.metrics as metrics\n",
    "import sklearn.preprocessing as preprocessing\n",
    "\n",
    "import pandas as pd1\n",
    "import seaborn as sns\n",
    "import random\n",
    "\n",
    "from numpy.random import multivariate_normal\n",
    "\n",
    "from cvxopt import solvers, matrix\n",
    "\n",
    "mnist = load_digits()"
   ]
  },
  {
   "cell_type": "markdown",
   "id": "5ea15c31",
   "metadata": {},
   "source": [
    "Let us start by visualising our dataset. This dataset contains images of handwritten 0-9 digits, and their corresponding class."
   ]
  },
  {
   "cell_type": "markdown",
   "id": "cd9e63b2",
   "metadata": {},
   "source": [
    "### Task\n",
    "- Use the `plt.imshow` function to plot an example image from the dataset\n",
    "- Print the class of the sample you display"
   ]
  },
  {
   "cell_type": "code",
   "execution_count": 2,
   "id": "56146e54",
   "metadata": {},
   "outputs": [
    {
     "data": {
      "text/plain": [
       "{'data': array([[ 0.,  0.,  5., ...,  0.,  0.,  0.],\n",
       "        [ 0.,  0.,  0., ..., 10.,  0.,  0.],\n",
       "        [ 0.,  0.,  0., ..., 16.,  9.,  0.],\n",
       "        ...,\n",
       "        [ 0.,  0.,  1., ...,  6.,  0.,  0.],\n",
       "        [ 0.,  0.,  2., ..., 12.,  0.,  0.],\n",
       "        [ 0.,  0., 10., ..., 12.,  1.,  0.]]),\n",
       " 'target': array([0, 1, 2, ..., 8, 9, 8]),\n",
       " 'frame': None,\n",
       " 'feature_names': ['pixel_0_0',\n",
       "  'pixel_0_1',\n",
       "  'pixel_0_2',\n",
       "  'pixel_0_3',\n",
       "  'pixel_0_4',\n",
       "  'pixel_0_5',\n",
       "  'pixel_0_6',\n",
       "  'pixel_0_7',\n",
       "  'pixel_1_0',\n",
       "  'pixel_1_1',\n",
       "  'pixel_1_2',\n",
       "  'pixel_1_3',\n",
       "  'pixel_1_4',\n",
       "  'pixel_1_5',\n",
       "  'pixel_1_6',\n",
       "  'pixel_1_7',\n",
       "  'pixel_2_0',\n",
       "  'pixel_2_1',\n",
       "  'pixel_2_2',\n",
       "  'pixel_2_3',\n",
       "  'pixel_2_4',\n",
       "  'pixel_2_5',\n",
       "  'pixel_2_6',\n",
       "  'pixel_2_7',\n",
       "  'pixel_3_0',\n",
       "  'pixel_3_1',\n",
       "  'pixel_3_2',\n",
       "  'pixel_3_3',\n",
       "  'pixel_3_4',\n",
       "  'pixel_3_5',\n",
       "  'pixel_3_6',\n",
       "  'pixel_3_7',\n",
       "  'pixel_4_0',\n",
       "  'pixel_4_1',\n",
       "  'pixel_4_2',\n",
       "  'pixel_4_3',\n",
       "  'pixel_4_4',\n",
       "  'pixel_4_5',\n",
       "  'pixel_4_6',\n",
       "  'pixel_4_7',\n",
       "  'pixel_5_0',\n",
       "  'pixel_5_1',\n",
       "  'pixel_5_2',\n",
       "  'pixel_5_3',\n",
       "  'pixel_5_4',\n",
       "  'pixel_5_5',\n",
       "  'pixel_5_6',\n",
       "  'pixel_5_7',\n",
       "  'pixel_6_0',\n",
       "  'pixel_6_1',\n",
       "  'pixel_6_2',\n",
       "  'pixel_6_3',\n",
       "  'pixel_6_4',\n",
       "  'pixel_6_5',\n",
       "  'pixel_6_6',\n",
       "  'pixel_6_7',\n",
       "  'pixel_7_0',\n",
       "  'pixel_7_1',\n",
       "  'pixel_7_2',\n",
       "  'pixel_7_3',\n",
       "  'pixel_7_4',\n",
       "  'pixel_7_5',\n",
       "  'pixel_7_6',\n",
       "  'pixel_7_7'],\n",
       " 'target_names': array([0, 1, 2, 3, 4, 5, 6, 7, 8, 9]),\n",
       " 'images': array([[[ 0.,  0.,  5., ...,  1.,  0.,  0.],\n",
       "         [ 0.,  0., 13., ..., 15.,  5.,  0.],\n",
       "         [ 0.,  3., 15., ..., 11.,  8.,  0.],\n",
       "         ...,\n",
       "         [ 0.,  4., 11., ..., 12.,  7.,  0.],\n",
       "         [ 0.,  2., 14., ..., 12.,  0.,  0.],\n",
       "         [ 0.,  0.,  6., ...,  0.,  0.,  0.]],\n",
       " \n",
       "        [[ 0.,  0.,  0., ...,  5.,  0.,  0.],\n",
       "         [ 0.,  0.,  0., ...,  9.,  0.,  0.],\n",
       "         [ 0.,  0.,  3., ...,  6.,  0.,  0.],\n",
       "         ...,\n",
       "         [ 0.,  0.,  1., ...,  6.,  0.,  0.],\n",
       "         [ 0.,  0.,  1., ...,  6.,  0.,  0.],\n",
       "         [ 0.,  0.,  0., ..., 10.,  0.,  0.]],\n",
       " \n",
       "        [[ 0.,  0.,  0., ..., 12.,  0.,  0.],\n",
       "         [ 0.,  0.,  3., ..., 14.,  0.,  0.],\n",
       "         [ 0.,  0.,  8., ..., 16.,  0.,  0.],\n",
       "         ...,\n",
       "         [ 0.,  9., 16., ...,  0.,  0.,  0.],\n",
       "         [ 0.,  3., 13., ..., 11.,  5.,  0.],\n",
       "         [ 0.,  0.,  0., ..., 16.,  9.,  0.]],\n",
       " \n",
       "        ...,\n",
       " \n",
       "        [[ 0.,  0.,  1., ...,  1.,  0.,  0.],\n",
       "         [ 0.,  0., 13., ...,  2.,  1.,  0.],\n",
       "         [ 0.,  0., 16., ..., 16.,  5.,  0.],\n",
       "         ...,\n",
       "         [ 0.,  0., 16., ..., 15.,  0.,  0.],\n",
       "         [ 0.,  0., 15., ..., 16.,  0.,  0.],\n",
       "         [ 0.,  0.,  2., ...,  6.,  0.,  0.]],\n",
       " \n",
       "        [[ 0.,  0.,  2., ...,  0.,  0.,  0.],\n",
       "         [ 0.,  0., 14., ..., 15.,  1.,  0.],\n",
       "         [ 0.,  4., 16., ..., 16.,  7.,  0.],\n",
       "         ...,\n",
       "         [ 0.,  0.,  0., ..., 16.,  2.,  0.],\n",
       "         [ 0.,  0.,  4., ..., 16.,  2.,  0.],\n",
       "         [ 0.,  0.,  5., ..., 12.,  0.,  0.]],\n",
       " \n",
       "        [[ 0.,  0., 10., ...,  1.,  0.,  0.],\n",
       "         [ 0.,  2., 16., ...,  1.,  0.,  0.],\n",
       "         [ 0.,  0., 15., ..., 15.,  0.,  0.],\n",
       "         ...,\n",
       "         [ 0.,  4., 16., ..., 16.,  6.,  0.],\n",
       "         [ 0.,  8., 16., ..., 16.,  8.,  0.],\n",
       "         [ 0.,  1.,  8., ..., 12.,  1.,  0.]]]),\n",
       " 'DESCR': \".. _digits_dataset:\\n\\nOptical recognition of handwritten digits dataset\\n--------------------------------------------------\\n\\n**Data Set Characteristics:**\\n\\n    :Number of Instances: 1797\\n    :Number of Attributes: 64\\n    :Attribute Information: 8x8 image of integer pixels in the range 0..16.\\n    :Missing Attribute Values: None\\n    :Creator: E. Alpaydin (alpaydin '@' boun.edu.tr)\\n    :Date: July; 1998\\n\\nThis is a copy of the test set of the UCI ML hand-written digits datasets\\nhttps://archive.ics.uci.edu/ml/datasets/Optical+Recognition+of+Handwritten+Digits\\n\\nThe data set contains images of hand-written digits: 10 classes where\\neach class refers to a digit.\\n\\nPreprocessing programs made available by NIST were used to extract\\nnormalized bitmaps of handwritten digits from a preprinted form. From a\\ntotal of 43 people, 30 contributed to the training set and different 13\\nto the test set. 32x32 bitmaps are divided into nonoverlapping blocks of\\n4x4 and the number of on pixels are counted in each block. This generates\\nan input matrix of 8x8 where each element is an integer in the range\\n0..16. This reduces dimensionality and gives invariance to small\\ndistortions.\\n\\nFor info on NIST preprocessing routines, see M. D. Garris, J. L. Blue, G.\\nT. Candela, D. L. Dimmick, J. Geist, P. J. Grother, S. A. Janet, and C.\\nL. Wilson, NIST Form-Based Handprint Recognition System, NISTIR 5469,\\n1994.\\n\\n.. topic:: References\\n\\n  - C. Kaynak (1995) Methods of Combining Multiple Classifiers and Their\\n    Applications to Handwritten Digit Recognition, MSc Thesis, Institute of\\n    Graduate Studies in Science and Engineering, Bogazici University.\\n  - E. Alpaydin, C. Kaynak (1998) Cascading Classifiers, Kybernetika.\\n  - Ken Tang and Ponnuthurai N. Suganthan and Xi Yao and A. Kai Qin.\\n    Linear dimensionalityreduction using relevance weighted LDA. School of\\n    Electrical and Electronic Engineering Nanyang Technological University.\\n    2005.\\n  - Claudio Gentile. A New Approximate Maximal Margin Classification\\n    Algorithm. NIPS. 2000.\\n\"}"
      ]
     },
     "execution_count": 2,
     "metadata": {},
     "output_type": "execute_result"
    }
   ],
   "source": [
    "mnist"
   ]
  },
  {
   "cell_type": "code",
   "execution_count": 3,
   "id": "45f0adab",
   "metadata": {
    "scrolled": true
   },
   "outputs": [
    {
     "name": "stdout",
     "output_type": "stream",
     "text": [
      "class: 0\n"
     ]
    },
    {
     "data": {
      "image/png": "[encoded data removed]",
      "text/plain": [
       "<Figure size 432x288 with 1 Axes>"
      ]
     },
     "metadata": {
      "needs_background": "light"
     },
     "output_type": "display_data"
    }
   ],
   "source": [
    "plt.imshow(mnist['images'][0])\n",
    "print('class:', mnist['target'][0])"
   ]
  },
  {
   "cell_type": "markdown",
   "id": "84096405",
   "metadata": {},
   "source": [
    "## Part 1 - Linear models\n",
    "\n",
    "Suppose that we can observe two variables: $\\mathbf{x}\\in\\mathbb{R}^d$ and $\\mathbf{y}\\in\\mathbb{R}^q$. \n",
    "Suppose also that these variables are related, and that we model this relation with a linear model parameterized with a matrix $A\\in\\mathbb{R}^{q\\times d}$, i.e. such that \\begin{equation}\n",
    "    \\mathbf{y}=A\\mathbf{x}.\n",
    "\\end{equation}\n",
    "\n",
    "In this part of the project, we will implement the MMSE solutions we derived for $A$ in tutorial 1.\n",
    "Before that, we need to do some small transformations to our dataset input."
   ]
  },
  {
   "cell_type": "markdown",
   "id": "b49c6132",
   "metadata": {},
   "source": [
    "### Preparing the input data\n",
    "You should have noted that the dataset consists in $N=1797$ images, represented as matrices of size $8 \\times 8$. This is incompatible with our model which assumes that the data are vectors !\n",
    "\n",
    "In the context of image recognition, $\\mathbf{x}\\in\\mathbb{R}^d$ is the vectorized (i.e. the original matrix of size $8 \\times 8$ is transformed into a vector of size $d=w\\times h$) representation of an input image."
   ]
  },
  {
   "cell_type": "code",
   "execution_count": 4,
   "id": "5699a378",
   "metadata": {},
   "outputs": [
    {
     "name": "stdout",
     "output_type": "stream",
     "text": [
      "Input tensor shape: (1797, 8, 8)\n"
     ]
    }
   ],
   "source": [
    "print(\"Input tensor shape:\",mnist.images.shape)"
   ]
  },
  {
   "cell_type": "markdown",
   "id": "9074ab87",
   "metadata": {},
   "source": [
    "### Task\n",
    "- Transform the input tensor into a matrix $X$ of size $64 \\times 1797$."
   ]
  },
  {
   "cell_type": "code",
   "execution_count": 5,
   "id": "d6036e2c",
   "metadata": {
    "scrolled": false
   },
   "outputs": [],
   "source": [
    "#The first method is that matrix of size 64 * 1797 has already concluded in the mnist dataset, which is called mnist['images']\n",
    "#Second\n",
    "#print(mnist['data'][0])\n",
    "X = np.reshape(mnist['images'], (-1, 64))\n",
    "X = np.transpose(X, (1, 0))"
   ]
  },
  {
   "cell_type": "code",
   "execution_count": 6,
   "id": "fa1bea4e",
   "metadata": {},
   "outputs": [
    {
     "name": "stdout",
     "output_type": "stream",
     "text": [
      "64\n"
     ]
    }
   ],
   "source": [
    "print(sum(X[:, 0] == mnist['data'][0]))"
   ]
  },
  {
   "cell_type": "markdown",
   "id": "0f0459a6",
   "metadata": {},
   "source": [
    "### Preparing the target data\n",
    "\n",
    "Here the target data is a sequence of $N$ digits, from $0$ to $9$.\n",
    "For simplicity here, we will consider the default task of classifying each input image to it's corresponding 0-9 digit. This means that we need target vectors of dimension $q=10$."
   ]
  },
  {
   "cell_type": "code",
   "execution_count": 7,
   "id": "afb0757b",
   "metadata": {},
   "outputs": [
    {
     "name": "stdout",
     "output_type": "stream",
     "text": [
      "Target shape: (1797,) e.g. [0 1 2 3 4 5 6 7 8 9 0] ...\n"
     ]
    }
   ],
   "source": [
    "print(\"Target shape:\",mnist.target.shape, \"e.g.\",mnist.target[:11], \"...\")"
   ]
  },
  {
   "cell_type": "markdown",
   "id": "dac055b1",
   "metadata": {},
   "source": [
    "The targets provided in the dataset are integer numbers (i.e. vectors of dimension $1$ !). We could consider a classification task with 1-dimension targets, however for classification tasks with $10$ classes, it is easier to encode the integer targets as 10-dimensional **one-hot vectors**.\n",
    "\n",
    "A one-hot vector is a way to encode integer number as a vector. It is a vector where all the components have value $0$, except for one, corresponding to the encoded integer, with value $1$.\n",
    "For instance, in our context with $10$ possible classes:\n",
    "- integer $1$ will be represented as the 10-dimensional vector: $[0,1,0,0,0,0,0,0,0,0]^T$, \n",
    "- integer $9$ will be represented as the 10-dimensional vector: $[0,0,0,0,0,0,0,0,0,1]^T$, "
   ]
  },
  {
   "cell_type": "markdown",
   "id": "0c958f8f",
   "metadata": {},
   "source": [
    "### Task\n",
    "- Transform the target tensor into a matrix $Y$ of size $10 \\times 1797$, containing the one-hot encoded vectors columnwise.\n",
    "\n",
    "**Hint** The scikit-learn library contains tools to perform such transformations in module `sklearn.preprocessing`. You can also get it done using the `numpy` library only."
   ]
  },
  {
   "cell_type": "code",
   "execution_count": 8,
   "id": "deab9ed3",
   "metadata": {},
   "outputs": [],
   "source": [
    "Y = mnist['target']"
   ]
  },
  {
   "cell_type": "code",
   "execution_count": 9,
   "id": "f44f84fc",
   "metadata": {},
   "outputs": [
    {
     "data": {
      "text/plain": [
       "numpy.ndarray"
      ]
     },
     "execution_count": 9,
     "metadata": {},
     "output_type": "execute_result"
    }
   ],
   "source": [
    "type(mnist['target'])"
   ]
  },
  {
   "cell_type": "code",
   "execution_count": 10,
   "id": "f7078230",
   "metadata": {},
   "outputs": [],
   "source": [
    "from sklearn.preprocessing import OneHotEncoder\n",
    "ohe = OneHotEncoder()\n",
    "Y = ohe.fit_transform(Y.reshape(-1, 1)).toarray()\n",
    "Y = np.transpose(Y, (1, 0))"
   ]
  },
  {
   "cell_type": "code",
   "execution_count": 11,
   "id": "99598230",
   "metadata": {},
   "outputs": [
    {
     "name": "stdout",
     "output_type": "stream",
     "text": [
      "[0 1 2 3 4 5 6 7 8 9 0 1 2 3 4]\n"
     ]
    }
   ],
   "source": [
    "print(mnist['target'][:15])"
   ]
  },
  {
   "cell_type": "code",
   "execution_count": 12,
   "id": "036d9a6f",
   "metadata": {},
   "outputs": [
    {
     "name": "stdout",
     "output_type": "stream",
     "text": [
      "[[1. 0. 0. 0. 0. 0. 0. 0. 0. 0. 1. 0. 0. 0. 0.]\n",
      " [0. 1. 0. 0. 0. 0. 0. 0. 0. 0. 0. 1. 0. 0. 0.]\n",
      " [0. 0. 1. 0. 0. 0. 0. 0. 0. 0. 0. 0. 1. 0. 0.]\n",
      " [0. 0. 0. 1. 0. 0. 0. 0. 0. 0. 0. 0. 0. 1. 0.]\n",
      " [0. 0. 0. 0. 1. 0. 0. 0. 0. 0. 0. 0. 0. 0. 1.]\n",
      " [0. 0. 0. 0. 0. 1. 0. 0. 0. 0. 0. 0. 0. 0. 0.]\n",
      " [0. 0. 0. 0. 0. 0. 1. 0. 0. 0. 0. 0. 0. 0. 0.]\n",
      " [0. 0. 0. 0. 0. 0. 0. 1. 0. 0. 0. 0. 0. 0. 0.]\n",
      " [0. 0. 0. 0. 0. 0. 0. 0. 1. 0. 0. 0. 0. 0. 0.]\n",
      " [0. 0. 0. 0. 0. 0. 0. 0. 0. 1. 0. 0. 0. 0. 0.]]\n"
     ]
    }
   ],
   "source": [
    "print(Y[:, :15])"
   ]
  },
  {
   "cell_type": "markdown",
   "id": "fd037290",
   "metadata": {},
   "source": [
    "You should now have data represented as Question 2 in section 1.3 of tutorial 1.\n",
    "This means that we are ready to implement the methods!"
   ]
  },
  {
   "cell_type": "markdown",
   "id": "2e67de9f",
   "metadata": {},
   "source": [
    "## Implementing the algorithms"
   ]
  },
  {
   "cell_type": "markdown",
   "id": "b978cb9a",
   "metadata": {},
   "source": [
    "In what follows, we suppose that we have $n=1797$ data points for $\\mathbf{x}$ and $\\mathbf{y}$, in the form of matrices $X\\in\\mathbb{R}^{d\\times n}$ and $Y\\in\\mathbb{R}^{q\\times n}$ respectively, with $q=10$ and $d=64$."
   ]
  },
  {
   "cell_type": "markdown",
   "id": "b6964bc4",
   "metadata": {},
   "source": [
    "###  Regularized mean squared error solution"
   ]
  },
  {
   "cell_type": "markdown",
   "id": "78267ba7",
   "metadata": {},
   "source": [
    "### Task\n",
    "- Implement the method derived in section 1.3, question 3 of tutorial 1.\n",
    "i.e. implement the method to calculate $A_n^\\star$ which leads to the minimum mean squared error for the regularized linear model. \n",
    "\n",
    "**Hint** Use a regularization parameter $\\lambda=1$ for debugging.\n"
   ]
  },
  {
   "cell_type": "code",
   "execution_count": 13,
   "id": "1f1d742e",
   "metadata": {},
   "outputs": [
    {
     "data": {
      "text/plain": [
       "(64, 1797)"
      ]
     },
     "execution_count": 13,
     "metadata": {},
     "output_type": "execute_result"
    }
   ],
   "source": [
    "X.shape"
   ]
  },
  {
   "cell_type": "code",
   "execution_count": 14,
   "id": "69f9ebb5",
   "metadata": {},
   "outputs": [
    {
     "data": {
      "text/plain": [
       "(10, 1797)"
      ]
     },
     "execution_count": 14,
     "metadata": {},
     "output_type": "execute_result"
    }
   ],
   "source": [
    "Y.shape"
   ]
  },
  {
   "cell_type": "code",
   "execution_count": 15,
   "id": "751bb08a",
   "metadata": {},
   "outputs": [],
   "source": [
    "def get_mmse(X, Y, lamb = 1):\n",
    "    Astar = np.dot(Y, X.T) @ np.linalg.pinv(np.dot(X, X.T) + lamb * np.identity(np.dot(X, X.T).shape[0]))\n",
    "    return Astar\n",
    "\n",
    "tmp = get_mmse(X, Y)"
   ]
  },
  {
   "cell_type": "code",
   "execution_count": 16,
   "id": "827261d9",
   "metadata": {},
   "outputs": [
    {
     "name": "stdout",
     "output_type": "stream",
     "text": [
      "(10, 64)\n"
     ]
    }
   ],
   "source": [
    "print(tmp.shape)"
   ]
  },
  {
   "cell_type": "markdown",
   "id": "e64ec90f",
   "metadata": {},
   "source": [
    "### Task\n",
    "- Write a function to calculate the mean squared error.\n",
    "- What is the mean squared error on the dataset for $\\lambda=1$ ?"
   ]
  },
  {
   "cell_type": "code",
   "execution_count": 17,
   "id": "d6978bd7",
   "metadata": {},
   "outputs": [],
   "source": [
    "def mse(Y, Yhat):\n",
    "    return ((Y - Yhat)**2).mean()"
   ]
  },
  {
   "cell_type": "code",
   "execution_count": 18,
   "id": "f1829c48",
   "metadata": {},
   "outputs": [
    {
     "name": "stdout",
     "output_type": "stream",
     "text": [
      "0.03100303080474475\n"
     ]
    }
   ],
   "source": [
    "Astar = get_mmse(X,Y)\n",
    "Yhat = Astar @ X\n",
    "\n",
    "print(mse(Y,Yhat))"
   ]
  },
  {
   "cell_type": "markdown",
   "id": "51980dbe",
   "metadata": {},
   "source": [
    "### Task\n",
    "- What is the classification accuracy on the dataset for $\\lambda=1$ ?\n",
    "\n",
    "**Hint 1** To obtain an accuracy you should \n",
    "1. Transform the predictions you obtain with a softmax function (see below)\n",
    "2. Classify each input vector by determining which row of the predicted vector has maximum value.\n",
    "\n",
    "**Hint 2** The module `sklearn.metrics` contains a function to calculate the accuracy. You can also compute it using only `numpy`"
   ]
  },
  {
   "cell_type": "code",
   "execution_count": 19,
   "id": "6b3d0b76",
   "metadata": {},
   "outputs": [],
   "source": [
    "def softmax(Y):\n",
    "    \"\"\"Matrix of size (q x n), with prediction vectors columnwise.\"\"\"\n",
    "    return np.exp(Y)/np.exp(Y).sum(0)"
   ]
  },
  {
   "cell_type": "code",
   "execution_count": 20,
   "id": "b87d51ca",
   "metadata": {},
   "outputs": [],
   "source": [
    "from sklearn.metrics import accuracy_score\n",
    "def cal_acc(Yhat, mnist):\n",
    "    Yhat_prob = softmax(Yhat)\n",
    "    pred_labels = np.argmax(Yhat_prob, axis = 0)\n",
    "    acc = accuracy_score(mnist['target'], pred_labels)\n",
    "    return acc"
   ]
  },
  {
   "cell_type": "code",
   "execution_count": 21,
   "id": "31027170",
   "metadata": {},
   "outputs": [
    {
     "name": "stdout",
     "output_type": "stream",
     "text": [
      "0.9471341124095715\n"
     ]
    }
   ],
   "source": [
    "acc = cal_acc(Yhat, mnist)\n",
    "print(acc)"
   ]
  },
  {
   "cell_type": "markdown",
   "id": "f2f12429",
   "metadata": {},
   "source": [
    "### Task\n",
    "1. Plot the MSE against the regularization parameter $\\lambda$. Vary $\\lambda$ in an interval you find relevant.\n",
    "2. What do you expect to see when the value of $\\lambda$ becomes large ? Does this match with the observation you can make from your graph ?\n",
    "3. Propose an explaination for what you see on the graph.\n",
    "4. Repeat tasks 1-3 with the accuracy instead of the MSE (you can use the same interval for $\\lambda$)."
   ]
  },
  {
   "cell_type": "code",
   "execution_count": 22,
   "id": "4e797fe4",
   "metadata": {},
   "outputs": [],
   "source": [
    "lamb_list = np.linspace(0, 600, 600)\n",
    "mse_list = []\n",
    "acc_list = []\n",
    "for lamb in lamb_list:\n",
    "    Astar = get_mmse(X, Y, lamb)\n",
    "    Yhat = Astar @ X\n",
    "    mse_list.append(mse(Y, Yhat))\n",
    "    acc_list.append(cal_acc(Yhat, mnist))"
   ]
  },
  {
   "cell_type": "code",
   "execution_count": 23,
   "id": "8d10a669",
   "metadata": {
    "scrolled": true
   },
   "outputs": [
    {
     "data": {
      "text/plain": [
       "Text(0.5, 1.0, 'MSE against the regularization parameter')"
      ]
     },
     "execution_count": 23,
     "metadata": {},
     "output_type": "execute_result"
    },
    {
     "data": {
      "image/png": "[encoded data removed]",
      "text/plain": [
       "<Figure size 720x360 with 1 Axes>"
      ]
     },
     "metadata": {
      "needs_background": "light"
     },
     "output_type": "display_data"
    }
   ],
   "source": [
    "fig, ax = plt.subplots(figsize = (10, 5))\n",
    "sns.lineplot(x = lamb_list, y = mse_list)\n",
    "ax.set_xlabel('lambda')\n",
    "ax.set_ylabel('mse')\n",
    "ax.set_title(\"MSE against the regularization parameter\")"
   ]
  },
  {
   "cell_type": "markdown",
   "id": "9fadb80c",
   "metadata": {},
   "source": [
    "### Answer\n",
    "Answer2: When lambda increases from 0, in this situation, MSE is expected to increase. And this matches the observation from my graph.\n",
    "Applied training data to the well trained model. lambda increases, the regularization increases, which lead to a decrease in the MSE in this case.\n",
    "\n",
    "Answer3: The accuracy increases then decreases. When lambda becomes very large, it will give more constrain on the coefficients, whcih is uncessary and will lead to accuracy drop. "
   ]
  },
  {
   "cell_type": "code",
   "execution_count": 24,
   "id": "bfd4889a",
   "metadata": {},
   "outputs": [
    {
     "data": {
      "text/plain": [
       "Text(0.5, 1.0, 'Accuracy against the regularization parameter')"
      ]
     },
     "execution_count": 24,
     "metadata": {},
     "output_type": "execute_result"
    },
    {
     "data": {
      "image/png": "[encoded data removed]",
      "text/plain": [
       "<Figure size 720x360 with 1 Axes>"
      ]
     },
     "metadata": {
      "needs_background": "light"
     },
     "output_type": "display_data"
    }
   ],
   "source": [
    "fig, ax = plt.subplots(figsize = (10, 5))\n",
    "sns.lineplot(x = lamb_list, y = acc_list)\n",
    "ax.set_xlabel('lamb')\n",
    "ax.set_ylabel('accuracy')\n",
    "ax.set_title(\"Accuracy against the regularization parameter\")"
   ]
  },
  {
   "cell_type": "markdown",
   "id": "72173628",
   "metadata": {},
   "source": [
    "### Answer\n"
   ]
  },
  {
   "cell_type": "code",
   "execution_count": 25,
   "id": "4d59814d",
   "metadata": {},
   "outputs": [
    {
     "data": {
      "text/plain": [
       "[0.9471341124095715,\n",
       " 0.9471341124095715,\n",
       " 0.9471341124095715,\n",
       " 0.9471341124095715,\n",
       " 0.9471341124095715,\n",
       " 0.9471341124095715,\n",
       " 0.9471341124095715,\n",
       " 0.9471341124095715,\n",
       " 0.9471341124095715,\n",
       " 0.9471341124095715,\n",
       " 0.9471341124095715,\n",
       " 0.9471341124095715,\n",
       " 0.9471341124095715,\n",
       " 0.9471341124095715,\n",
       " 0.9471341124095715,\n",
       " 0.9471341124095715,\n",
       " 0.9471341124095715,\n",
       " 0.9471341124095715,\n",
       " 0.9471341124095715,\n",
       " 0.9471341124095715,\n",
       " 0.9471341124095715,\n",
       " 0.9471341124095715,\n",
       " 0.9471341124095715,\n",
       " 0.9471341124095715,\n",
       " 0.9471341124095715,\n",
       " 0.9471341124095715,\n",
       " 0.9471341124095715,\n",
       " 0.9482470784641068,\n",
       " 0.9482470784641068,\n",
       " 0.9482470784641068,\n",
       " 0.9482470784641068,\n",
       " 0.9482470784641068,\n",
       " 0.9482470784641068,\n",
       " 0.9482470784641068,\n",
       " 0.9482470784641068,\n",
       " 0.9476905954368392,\n",
       " 0.9476905954368392,\n",
       " 0.9476905954368392,\n",
       " 0.9476905954368392,\n",
       " 0.9476905954368392,\n",
       " 0.9476905954368392,\n",
       " 0.9476905954368392,\n",
       " 0.9476905954368392,\n",
       " 0.9476905954368392,\n",
       " 0.9471341124095715,\n",
       " 0.9471341124095715,\n",
       " 0.9471341124095715,\n",
       " 0.9471341124095715,\n",
       " 0.9471341124095715,\n",
       " 0.9471341124095715,\n",
       " 0.9471341124095715,\n",
       " 0.9471341124095715,\n",
       " 0.9471341124095715,\n",
       " 0.9471341124095715,\n",
       " 0.9471341124095715,\n",
       " 0.9471341124095715,\n",
       " 0.9471341124095715,\n",
       " 0.9471341124095715,\n",
       " 0.9471341124095715,\n",
       " 0.9471341124095715,\n",
       " 0.9471341124095715,\n",
       " 0.9471341124095715,\n",
       " 0.9471341124095715,\n",
       " 0.9471341124095715,\n",
       " 0.9471341124095715,\n",
       " 0.9471341124095715,\n",
       " 0.9471341124095715,\n",
       " 0.9471341124095715,\n",
       " 0.9471341124095715,\n",
       " 0.9471341124095715,\n",
       " 0.9471341124095715,\n",
       " 0.9471341124095715,\n",
       " 0.9471341124095715,\n",
       " 0.9471341124095715,\n",
       " 0.9471341124095715,\n",
       " 0.9471341124095715,\n",
       " 0.9471341124095715,\n",
       " 0.9471341124095715,\n",
       " 0.9471341124095715,\n",
       " 0.9471341124095715,\n",
       " 0.9471341124095715,\n",
       " 0.9471341124095715,\n",
       " 0.9471341124095715,\n",
       " 0.9471341124095715,\n",
       " 0.9471341124095715,\n",
       " 0.9471341124095715,\n",
       " 0.9471341124095715,\n",
       " 0.9471341124095715,\n",
       " 0.9471341124095715,\n",
       " 0.9471341124095715,\n",
       " 0.9471341124095715,\n",
       " 0.9471341124095715,\n",
       " 0.9471341124095715,\n",
       " 0.9471341124095715,\n",
       " 0.9471341124095715,\n",
       " 0.9471341124095715,\n",
       " 0.9471341124095715,\n",
       " 0.9471341124095715,\n",
       " 0.9471341124095715,\n",
       " 0.9471341124095715,\n",
       " 0.9471341124095715,\n",
       " 0.9471341124095715,\n",
       " 0.9471341124095715,\n",
       " 0.9471341124095715,\n",
       " 0.9471341124095715,\n",
       " 0.9471341124095715,\n",
       " 0.9471341124095715,\n",
       " 0.9471341124095715,\n",
       " 0.9471341124095715,\n",
       " 0.9471341124095715,\n",
       " 0.9471341124095715,\n",
       " 0.9471341124095715,\n",
       " 0.9471341124095715,\n",
       " 0.9471341124095715,\n",
       " 0.9471341124095715,\n",
       " 0.9471341124095715,\n",
       " 0.9471341124095715,\n",
       " 0.9471341124095715,\n",
       " 0.9471341124095715,\n",
       " 0.9471341124095715,\n",
       " 0.9471341124095715,\n",
       " 0.9471341124095715,\n",
       " 0.9471341124095715,\n",
       " 0.9471341124095715,\n",
       " 0.9471341124095715,\n",
       " 0.9471341124095715,\n",
       " 0.9471341124095715,\n",
       " 0.9471341124095715,\n",
       " 0.9471341124095715,\n",
       " 0.9471341124095715,\n",
       " 0.9471341124095715,\n",
       " 0.9471341124095715,\n",
       " 0.9471341124095715,\n",
       " 0.9471341124095715,\n",
       " 0.9471341124095715,\n",
       " 0.9471341124095715,\n",
       " 0.9471341124095715,\n",
       " 0.9471341124095715,\n",
       " 0.9471341124095715,\n",
       " 0.9471341124095715,\n",
       " 0.9471341124095715,\n",
       " 0.9471341124095715,\n",
       " 0.9471341124095715,\n",
       " 0.9471341124095715,\n",
       " 0.9471341124095715,\n",
       " 0.9471341124095715,\n",
       " 0.9471341124095715,\n",
       " 0.9471341124095715,\n",
       " 0.9471341124095715,\n",
       " 0.9471341124095715,\n",
       " 0.9471341124095715,\n",
       " 0.9471341124095715,\n",
       " 0.9471341124095715,\n",
       " 0.9471341124095715,\n",
       " 0.9471341124095715,\n",
       " 0.9471341124095715,\n",
       " 0.9471341124095715,\n",
       " 0.9471341124095715,\n",
       " 0.9471341124095715,\n",
       " 0.9471341124095715,\n",
       " 0.9471341124095715,\n",
       " 0.9471341124095715,\n",
       " 0.9471341124095715,\n",
       " 0.9471341124095715,\n",
       " 0.9471341124095715,\n",
       " 0.9471341124095715,\n",
       " 0.9471341124095715,\n",
       " 0.9471341124095715,\n",
       " 0.9471341124095715,\n",
       " 0.9471341124095715,\n",
       " 0.9471341124095715,\n",
       " 0.9471341124095715,\n",
       " 0.9471341124095715,\n",
       " 0.9471341124095715,\n",
       " 0.9471341124095715,\n",
       " 0.9471341124095715,\n",
       " 0.9471341124095715,\n",
       " 0.9471341124095715,\n",
       " 0.9471341124095715,\n",
       " 0.9471341124095715,\n",
       " 0.9471341124095715,\n",
       " 0.9471341124095715,\n",
       " 0.9471341124095715,\n",
       " 0.9471341124095715,\n",
       " 0.9471341124095715,\n",
       " 0.9471341124095715,\n",
       " 0.9471341124095715,\n",
       " 0.9471341124095715,\n",
       " 0.9471341124095715,\n",
       " 0.9471341124095715,\n",
       " 0.9471341124095715,\n",
       " 0.9471341124095715,\n",
       " 0.9471341124095715,\n",
       " 0.9471341124095715,\n",
       " 0.9471341124095715,\n",
       " 0.9471341124095715,\n",
       " 0.9471341124095715,\n",
       " 0.9471341124095715,\n",
       " 0.9471341124095715,\n",
       " 0.9471341124095715,\n",
       " 0.9471341124095715,\n",
       " 0.9471341124095715,\n",
       " 0.9471341124095715,\n",
       " 0.9471341124095715,\n",
       " 0.9471341124095715,\n",
       " 0.9471341124095715,\n",
       " 0.9471341124095715,\n",
       " 0.9471341124095715,\n",
       " 0.9471341124095715,\n",
       " 0.9471341124095715,\n",
       " 0.9471341124095715,\n",
       " 0.9471341124095715,\n",
       " 0.9471341124095715,\n",
       " 0.9471341124095715,\n",
       " 0.9471341124095715,\n",
       " 0.9471341124095715,\n",
       " 0.9471341124095715,\n",
       " 0.9471341124095715,\n",
       " 0.9465776293823038,\n",
       " 0.9465776293823038,\n",
       " 0.9465776293823038,\n",
       " 0.9465776293823038,\n",
       " 0.9465776293823038,\n",
       " 0.9465776293823038,\n",
       " 0.9465776293823038,\n",
       " 0.9465776293823038,\n",
       " 0.9465776293823038,\n",
       " 0.9465776293823038,\n",
       " 0.9465776293823038,\n",
       " 0.9465776293823038,\n",
       " 0.9465776293823038,\n",
       " 0.9465776293823038,\n",
       " 0.9465776293823038,\n",
       " 0.9465776293823038,\n",
       " 0.9465776293823038,\n",
       " 0.9465776293823038,\n",
       " 0.9465776293823038,\n",
       " 0.9465776293823038,\n",
       " 0.9465776293823038,\n",
       " 0.9465776293823038,\n",
       " 0.9465776293823038,\n",
       " 0.9465776293823038,\n",
       " 0.9465776293823038,\n",
       " 0.9465776293823038,\n",
       " 0.9465776293823038,\n",
       " 0.9465776293823038,\n",
       " 0.9465776293823038,\n",
       " 0.9465776293823038,\n",
       " 0.9465776293823038,\n",
       " 0.9465776293823038,\n",
       " 0.9465776293823038,\n",
       " 0.9465776293823038,\n",
       " 0.9465776293823038,\n",
       " 0.9465776293823038,\n",
       " 0.9465776293823038,\n",
       " 0.9465776293823038,\n",
       " 0.9465776293823038,\n",
       " 0.9465776293823038,\n",
       " 0.9465776293823038,\n",
       " 0.9465776293823038,\n",
       " 0.9465776293823038,\n",
       " 0.9465776293823038,\n",
       " 0.9465776293823038,\n",
       " 0.9465776293823038,\n",
       " 0.9465776293823038,\n",
       " 0.9465776293823038,\n",
       " 0.9465776293823038,\n",
       " 0.9465776293823038,\n",
       " 0.9465776293823038,\n",
       " 0.9465776293823038,\n",
       " 0.9465776293823038,\n",
       " 0.9465776293823038,\n",
       " 0.9465776293823038,\n",
       " 0.9465776293823038,\n",
       " 0.9465776293823038,\n",
       " 0.9465776293823038,\n",
       " 0.9465776293823038,\n",
       " 0.9465776293823038,\n",
       " 0.9465776293823038,\n",
       " 0.9465776293823038,\n",
       " 0.9471341124095715,\n",
       " 0.9471341124095715,\n",
       " 0.9471341124095715,\n",
       " 0.9471341124095715,\n",
       " 0.9471341124095715,\n",
       " 0.9471341124095715,\n",
       " 0.9471341124095715,\n",
       " 0.9471341124095715,\n",
       " 0.9471341124095715,\n",
       " 0.9471341124095715,\n",
       " 0.9471341124095715,\n",
       " 0.9471341124095715,\n",
       " 0.9471341124095715,\n",
       " 0.9471341124095715,\n",
       " 0.9471341124095715,\n",
       " 0.9471341124095715,\n",
       " 0.9471341124095715,\n",
       " 0.9471341124095715,\n",
       " 0.9471341124095715,\n",
       " 0.9471341124095715,\n",
       " 0.9471341124095715,\n",
       " 0.9471341124095715,\n",
       " 0.9471341124095715,\n",
       " 0.9471341124095715,\n",
       " 0.9471341124095715,\n",
       " 0.9471341124095715,\n",
       " 0.9471341124095715,\n",
       " 0.9471341124095715,\n",
       " 0.9471341124095715,\n",
       " 0.9471341124095715,\n",
       " 0.9471341124095715,\n",
       " 0.9471341124095715,\n",
       " 0.9471341124095715,\n",
       " 0.9471341124095715,\n",
       " 0.9471341124095715,\n",
       " 0.9471341124095715,\n",
       " 0.9471341124095715,\n",
       " 0.9471341124095715,\n",
       " 0.9465776293823038,\n",
       " 0.9465776293823038,\n",
       " 0.9465776293823038,\n",
       " 0.9465776293823038,\n",
       " 0.9465776293823038,\n",
       " 0.9465776293823038,\n",
       " 0.9465776293823038,\n",
       " 0.9465776293823038,\n",
       " 0.9465776293823038,\n",
       " 0.9465776293823038,\n",
       " 0.9465776293823038,\n",
       " 0.9465776293823038,\n",
       " 0.9465776293823038,\n",
       " 0.9465776293823038,\n",
       " 0.9465776293823038,\n",
       " 0.9465776293823038,\n",
       " 0.9465776293823038,\n",
       " 0.9465776293823038,\n",
       " 0.9465776293823038,\n",
       " 0.9465776293823038,\n",
       " 0.9465776293823038,\n",
       " 0.9465776293823038,\n",
       " 0.9465776293823038,\n",
       " 0.9465776293823038,\n",
       " 0.9465776293823038,\n",
       " 0.9465776293823038,\n",
       " 0.9465776293823038,\n",
       " 0.9465776293823038,\n",
       " 0.9465776293823038,\n",
       " 0.9465776293823038,\n",
       " 0.9465776293823038,\n",
       " 0.9465776293823038,\n",
       " 0.9465776293823038,\n",
       " 0.9465776293823038,\n",
       " 0.9465776293823038,\n",
       " 0.9465776293823038,\n",
       " 0.9465776293823038,\n",
       " 0.9465776293823038,\n",
       " 0.9465776293823038,\n",
       " 0.9465776293823038,\n",
       " 0.9465776293823038,\n",
       " 0.9465776293823038,\n",
       " 0.9465776293823038,\n",
       " 0.9465776293823038,\n",
       " 0.9465776293823038,\n",
       " 0.9465776293823038,\n",
       " 0.9465776293823038,\n",
       " 0.9465776293823038,\n",
       " 0.9465776293823038,\n",
       " 0.9465776293823038,\n",
       " 0.9465776293823038,\n",
       " 0.9465776293823038,\n",
       " 0.9465776293823038,\n",
       " 0.9465776293823038,\n",
       " 0.9465776293823038,\n",
       " 0.9465776293823038,\n",
       " 0.9465776293823038,\n",
       " 0.9465776293823038,\n",
       " 0.9465776293823038,\n",
       " 0.9465776293823038,\n",
       " 0.9465776293823038,\n",
       " 0.9465776293823038,\n",
       " 0.9465776293823038,\n",
       " 0.9465776293823038,\n",
       " 0.9465776293823038,\n",
       " 0.9465776293823038,\n",
       " 0.9465776293823038,\n",
       " 0.9465776293823038,\n",
       " 0.9465776293823038,\n",
       " 0.9465776293823038,\n",
       " 0.9465776293823038,\n",
       " 0.9465776293823038,\n",
       " 0.9465776293823038,\n",
       " 0.9465776293823038,\n",
       " 0.9465776293823038,\n",
       " 0.9465776293823038,\n",
       " 0.9465776293823038,\n",
       " 0.9465776293823038,\n",
       " 0.9465776293823038,\n",
       " 0.9465776293823038,\n",
       " 0.9465776293823038,\n",
       " 0.9465776293823038,\n",
       " 0.9465776293823038,\n",
       " 0.9465776293823038,\n",
       " 0.9465776293823038,\n",
       " 0.9465776293823038,\n",
       " 0.9465776293823038,\n",
       " 0.9465776293823038,\n",
       " 0.9465776293823038,\n",
       " 0.9460211463550362,\n",
       " 0.9460211463550362,\n",
       " 0.9460211463550362,\n",
       " 0.9460211463550362,\n",
       " 0.9460211463550362,\n",
       " 0.9460211463550362,\n",
       " 0.9460211463550362,\n",
       " 0.9460211463550362,\n",
       " 0.9460211463550362,\n",
       " 0.9460211463550362,\n",
       " 0.9460211463550362,\n",
       " 0.9460211463550362,\n",
       " 0.9460211463550362,\n",
       " 0.9460211463550362,\n",
       " 0.9460211463550362,\n",
       " 0.9460211463550362,\n",
       " 0.9460211463550362,\n",
       " 0.9460211463550362,\n",
       " 0.9460211463550362,\n",
       " 0.9460211463550362,\n",
       " 0.9460211463550362,\n",
       " 0.9460211463550362,\n",
       " 0.9460211463550362,\n",
       " 0.9460211463550362,\n",
       " 0.9460211463550362,\n",
       " 0.9460211463550362,\n",
       " 0.9460211463550362,\n",
       " 0.9460211463550362,\n",
       " 0.9460211463550362,\n",
       " 0.9460211463550362,\n",
       " 0.9460211463550362,\n",
       " 0.9460211463550362,\n",
       " 0.9460211463550362,\n",
       " 0.9460211463550362,\n",
       " 0.9460211463550362,\n",
       " 0.9460211463550362,\n",
       " 0.9460211463550362,\n",
       " 0.9460211463550362,\n",
       " 0.9460211463550362,\n",
       " 0.9460211463550362,\n",
       " 0.9460211463550362,\n",
       " 0.9460211463550362,\n",
       " 0.9460211463550362,\n",
       " 0.9460211463550362,\n",
       " 0.9460211463550362,\n",
       " 0.9460211463550362,\n",
       " 0.9460211463550362,\n",
       " 0.9460211463550362,\n",
       " 0.9460211463550362,\n",
       " 0.9460211463550362,\n",
       " 0.9460211463550362,\n",
       " 0.9460211463550362,\n",
       " 0.9454646633277685,\n",
       " 0.9454646633277685,\n",
       " 0.9454646633277685,\n",
       " 0.9454646633277685,\n",
       " 0.9454646633277685,\n",
       " 0.9454646633277685,\n",
       " 0.9454646633277685,\n",
       " 0.9454646633277685,\n",
       " 0.9454646633277685,\n",
       " 0.9454646633277685,\n",
       " 0.9454646633277685,\n",
       " 0.9454646633277685,\n",
       " 0.9454646633277685,\n",
       " 0.9454646633277685,\n",
       " 0.9454646633277685,\n",
       " 0.9454646633277685,\n",
       " 0.9454646633277685,\n",
       " 0.9454646633277685,\n",
       " 0.9454646633277685,\n",
       " 0.9454646633277685,\n",
       " 0.9454646633277685,\n",
       " 0.9454646633277685,\n",
       " 0.9454646633277685,\n",
       " 0.9454646633277685,\n",
       " 0.9454646633277685,\n",
       " 0.9454646633277685,\n",
       " 0.9454646633277685,\n",
       " 0.9454646633277685,\n",
       " 0.9454646633277685,\n",
       " 0.9454646633277685,\n",
       " 0.9454646633277685,\n",
       " 0.9454646633277685,\n",
       " 0.9454646633277685,\n",
       " 0.9454646633277685,\n",
       " 0.9454646633277685,\n",
       " 0.9454646633277685,\n",
       " 0.9454646633277685,\n",
       " 0.9454646633277685,\n",
       " 0.9454646633277685,\n",
       " 0.9454646633277685,\n",
       " 0.9454646633277685,\n",
       " 0.9454646633277685,\n",
       " 0.9454646633277685,\n",
       " 0.9454646633277685,\n",
       " 0.9454646633277685,\n",
       " 0.9454646633277685,\n",
       " 0.9454646633277685,\n",
       " 0.9454646633277685,\n",
       " 0.9454646633277685,\n",
       " 0.9454646633277685,\n",
       " 0.9454646633277685,\n",
       " 0.9454646633277685,\n",
       " 0.9454646633277685,\n",
       " 0.9454646633277685,\n",
       " 0.9454646633277685,\n",
       " 0.9454646633277685,\n",
       " 0.9454646633277685,\n",
       " 0.9454646633277685,\n",
       " 0.9454646633277685,\n",
       " 0.9454646633277685,\n",
       " 0.9454646633277685,\n",
       " 0.9454646633277685,\n",
       " 0.9454646633277685,\n",
       " 0.9454646633277685,\n",
       " 0.9454646633277685,\n",
       " 0.9454646633277685,\n",
       " 0.9454646633277685,\n",
       " 0.9454646633277685,\n",
       " 0.9454646633277685,\n",
       " 0.9454646633277685,\n",
       " 0.9454646633277685,\n",
       " 0.9454646633277685,\n",
       " 0.9454646633277685,\n",
       " 0.9454646633277685,\n",
       " 0.9454646633277685,\n",
       " 0.9454646633277685,\n",
       " 0.9454646633277685,\n",
       " 0.9454646633277685,\n",
       " 0.9454646633277685,\n",
       " 0.9454646633277685,\n",
       " 0.9454646633277685,\n",
       " 0.9454646633277685,\n",
       " 0.9454646633277685,\n",
       " 0.9454646633277685,\n",
       " 0.9454646633277685,\n",
       " 0.9454646633277685,\n",
       " 0.9454646633277685,\n",
       " 0.9454646633277685,\n",
       " 0.9454646633277685,\n",
       " 0.9454646633277685,\n",
       " 0.9454646633277685,\n",
       " 0.9454646633277685,\n",
       " 0.9454646633277685,\n",
       " 0.9454646633277685,\n",
       " 0.9454646633277685,\n",
       " 0.9454646633277685,\n",
       " 0.9454646633277685,\n",
       " 0.9454646633277685,\n",
       " 0.9454646633277685,\n",
       " 0.9454646633277685,\n",
       " 0.9454646633277685,\n",
       " 0.9454646633277685,\n",
       " 0.9454646633277685,\n",
       " 0.9454646633277685,\n",
       " 0.9454646633277685,\n",
       " 0.9454646633277685,\n",
       " 0.9454646633277685,\n",
       " 0.9454646633277685,\n",
       " 0.9454646633277685,\n",
       " 0.9454646633277685,\n",
       " 0.9454646633277685,\n",
       " 0.9454646633277685,\n",
       " 0.9454646633277685,\n",
       " 0.9454646633277685,\n",
       " 0.9454646633277685,\n",
       " 0.9454646633277685,\n",
       " 0.9454646633277685,\n",
       " 0.9454646633277685,\n",
       " 0.9454646633277685,\n",
       " 0.9454646633277685,\n",
       " 0.9454646633277685,\n",
       " 0.9454646633277685,\n",
       " 0.9454646633277685,\n",
       " 0.9454646633277685,\n",
       " 0.9454646633277685,\n",
       " 0.9454646633277685,\n",
       " 0.9454646633277685,\n",
       " 0.9454646633277685,\n",
       " 0.9454646633277685,\n",
       " 0.9454646633277685,\n",
       " 0.9454646633277685,\n",
       " 0.9454646633277685,\n",
       " 0.9454646633277685,\n",
       " 0.9454646633277685,\n",
       " 0.9454646633277685,\n",
       " 0.9454646633277685,\n",
       " 0.9454646633277685,\n",
       " 0.9454646633277685,\n",
       " 0.9454646633277685,\n",
       " 0.9454646633277685,\n",
       " 0.9454646633277685]"
      ]
     },
     "execution_count": 25,
     "metadata": {},
     "output_type": "execute_result"
    }
   ],
   "source": [
    "acc_list"
   ]
  },
  {
   "cell_type": "markdown",
   "id": "797ba027",
   "metadata": {},
   "source": [
    "### Task\n",
    "\n",
    "- Plot the confusion matrix for the classification results obtained for some value of $\\lambda$.\n",
    "- What additional information can you obtain from the confusion matrix regarding the performances of our prediction ?\n",
    "\n",
    "**Hint** You can find some information and functions to calculate and use confusion matrices in the `sklearn.metrics` module."
   ]
  },
  {
   "cell_type": "markdown",
   "id": "1d9d8dd9",
   "metadata": {},
   "source": [
    "# lambda = 0"
   ]
  },
  {
   "cell_type": "code",
   "execution_count": 26,
   "id": "127f8ada",
   "metadata": {},
   "outputs": [
    {
     "data": {
      "text/plain": [
       "<AxesSubplot:>"
      ]
     },
     "execution_count": 26,
     "metadata": {},
     "output_type": "execute_result"
    },
    {
     "data": {
      "image/png": "[encoded data removed]",
      "text/plain": [
       "<Figure size 720x360 with 2 Axes>"
      ]
     },
     "metadata": {
      "needs_background": "light"
     },
     "output_type": "display_data"
    }
   ],
   "source": [
    "from sklearn.metrics import confusion_matrix\n",
    "lamb_sel = [0, 30, 40]\n",
    "#lambda = 0\n",
    "fig, ax = plt.subplots(figsize = (10, 5))\n",
    "Astar = get_mmse(X, Y, lamb_sel[0])\n",
    "Yhat = Astar @ X\n",
    "Yhat_prob = softmax(Yhat)\n",
    "pred_labels = np.argmax(Yhat_prob, axis = 0)\n",
    "conf_m = confusion_matrix(mnist['target'], pred_labels)\n",
    "df_cm = pd.DataFrame(conf_m, range(10), range(10))\n",
    "sns.heatmap(df_cm, annot = True, annot_kws = {'size':10})"
   ]
  },
  {
   "cell_type": "markdown",
   "id": "ed3f813f",
   "metadata": {},
   "source": [
    "# lambda = 30"
   ]
  },
  {
   "cell_type": "code",
   "execution_count": 27,
   "id": "0e687cee",
   "metadata": {
    "scrolled": true
   },
   "outputs": [
    {
     "data": {
      "text/plain": [
       "<AxesSubplot:>"
      ]
     },
     "execution_count": 27,
     "metadata": {},
     "output_type": "execute_result"
    },
    {
     "data": {
      "image/png": "[encoded data removed]",
      "text/plain": [
       "<Figure size 720x360 with 2 Axes>"
      ]
     },
     "metadata": {
      "needs_background": "light"
     },
     "output_type": "display_data"
    }
   ],
   "source": [
    "fig, ax = plt.subplots(figsize = (10, 5))\n",
    "Astar = get_mmse(X, Y, lamb_sel[1])\n",
    "Yhat = Astar @ X\n",
    "Yhat_prob = softmax(Yhat)\n",
    "pred_labels = np.argmax(Yhat_prob, axis = 0)\n",
    "conf_m = confusion_matrix(mnist['target'], pred_labels)\n",
    "df_cm = pd.DataFrame(conf_m, range(10), range(10))\n",
    "sns.heatmap(df_cm, annot = True, annot_kws = {'size':10})"
   ]
  },
  {
   "cell_type": "markdown",
   "id": "fac22124",
   "metadata": {},
   "source": [
    "### Answer\n",
    "In confusion matrix, I could find that the linear model performs well in distinguish images labeled 0-7. But it has a relatively poor ability in distinguishing images labeled 8 and 9. \n",
    "\n",
    "And it is more likely to treat image 8 as 1 and image 9 as 8."
   ]
  },
  {
   "cell_type": "markdown",
   "id": "db42fb95",
   "metadata": {},
   "source": [
    "## Part 2 - Kernel regression\n",
    "\n",
    "A kernel based predictor differs from a linear predictor in that it performs linear prediction on a transformed version of the input rather than of the input directly.\n",
    "The transformation is performed by a function (let's call it $\\boldsymbol\\phi$) mapping input vectors to vectors in a space of arbitrary dimension $N>d$, i.e. $\\boldsymbol\\phi:\\mathbb{R}^d\\rightarrow\\mathbb{R}^N$.\n",
    "The prediction for a vector $\\mathbf{x}\\in\\mathbb{R}^d$ is written as\\begin{equation}\n",
    "    \\hat{\\mathbf{y}}=\\mathbf{w}^T\\boldsymbol\\phi(\\mathbf{x}), \n",
    "\\end{equation}\n",
    "where $\\mathbf{w}$ are parameters of the predictor.\n",
    "In other words, kernel predictors are linear predictors in higher dimensional spaces.\n",
    "\n",
    "For this part of the project, refer to the theory presented in tutorial 1 section 1.4.\n",
    "The implementation tasks below are the ones proposed in the in question 4, 5 and 6."
   ]
  },
  {
   "cell_type": "markdown",
   "id": "d2f0db57",
   "metadata": {},
   "source": [
    "### Task\n",
    "\n",
    "- Implement a function in Python that calculates the Gram matrix associated with a linear kernel.\n",
    "Your function should take as argument two sets of vectors in $\\mathbb{R}^d$ in the form of two matrices, e.g. $X_1\\in\\mathbb{R}^{d\\times n}$ and $X_2\\in\\mathbb{R}^{d\\times m}$, and return the Gram matrix $K\\in\\mathbb{R}^{n\\times m}$.\n"
   ]
  },
  {
   "cell_type": "code",
   "execution_count": 28,
   "id": "404ec3cf",
   "metadata": {},
   "outputs": [
    {
     "data": {
      "text/plain": [
       "(64, 1797)"
      ]
     },
     "execution_count": 28,
     "metadata": {},
     "output_type": "execute_result"
    }
   ],
   "source": [
    "X.shape"
   ]
  },
  {
   "cell_type": "code",
   "execution_count": 29,
   "id": "edfa5ea3",
   "metadata": {},
   "outputs": [
    {
     "data": {
      "text/plain": [
       "(10, 1797)"
      ]
     },
     "execution_count": 29,
     "metadata": {},
     "output_type": "execute_result"
    }
   ],
   "source": [
    "Y.shape"
   ]
  },
  {
   "cell_type": "code",
   "execution_count": 30,
   "id": "c10c4201",
   "metadata": {},
   "outputs": [],
   "source": [
    "def my_linear_kernel(X1, X2):\n",
    "    \"\"\" Applies a linear kernel to two inputs datasets\n",
    "    Given\n",
    "        X1: (d,n) ndarray\n",
    "        X2: (d,m) ndarray\n",
    "    Returns\n",
    "        (n,m) ndarray\n",
    "    \"\"\"\n",
    "    linear_G = np.dot(X1.T, X2)\n",
    "    \n",
    "    return linear_G"
   ]
  },
  {
   "cell_type": "markdown",
   "id": "fcdbcdd3",
   "metadata": {},
   "source": [
    "### Task\n",
    "\n",
    "- Similarly, implement a function in Python that calculates the Gram matrix associated with a RBF kernel."
   ]
  },
  {
   "cell_type": "code",
   "execution_count": 31,
   "id": "3c2ac0d1",
   "metadata": {},
   "outputs": [],
   "source": [
    "def my_rbf_kernel(X1, X2, sigma = 1):\n",
    "    \"\"\" Applies a RBF kernel of parameter gamma to two inputs datasets\n",
    "        Given\n",
    "            X: (d,n) ndarray\n",
    "            Y: (d,m) ndarray\n",
    "        Returns\n",
    "            (n,m) ndarray\n",
    "    \"\"\"\n",
    "    res = np.zeros((X1.shape[1], X2.shape[1]))\n",
    "    for i in range(X1.shape[1]):\n",
    "        for j in range(X2.shape[1]):\n",
    "            norm = np.dot(X1[:, i].T, X1[:, i]) + np.dot(X2[:, j].T, X2[:, j]) - 2 * np.dot(X1[:, i].T, X2[:, j])\n",
    "            res[i, j] = np.exp(-norm/(2 * (sigma ** 2)))\n",
    "    return res"
   ]
  },
  {
   "cell_type": "markdown",
   "id": "2c60f211",
   "metadata": {},
   "source": [
    "### Task\n",
    "- Implement and test the kernel regression predictor on the classification dataset and compare the performances with the linear method implemented in part 1."
   ]
  },
  {
   "cell_type": "code",
   "execution_count": 32,
   "id": "eb8489cc",
   "metadata": {
    "scrolled": true
   },
   "outputs": [
    {
     "data": {
      "text/plain": [
       "(10, 1797)"
      ]
     },
     "execution_count": 32,
     "metadata": {},
     "output_type": "execute_result"
    }
   ],
   "source": [
    "Y.shape"
   ]
  },
  {
   "cell_type": "code",
   "execution_count": 33,
   "id": "8c6df727",
   "metadata": {},
   "outputs": [],
   "source": [
    "target = mnist['target']"
   ]
  },
  {
   "cell_type": "code",
   "execution_count": 34,
   "id": "234aa1b3",
   "metadata": {},
   "outputs": [
    {
     "data": {
      "text/plain": [
       "(64, 1797)"
      ]
     },
     "execution_count": 34,
     "metadata": {},
     "output_type": "execute_result"
    }
   ],
   "source": [
    "X.shape"
   ]
  },
  {
   "cell_type": "code",
   "execution_count": 35,
   "id": "0bdea2f4",
   "metadata": {},
   "outputs": [],
   "source": [
    "lamb_list = np.linspace(0, 60, 60)\n",
    "mse_list_kernel_rbf = []\n",
    "acc_list_kernel_rbf = []\n",
    "\n",
    "\n",
    "kx = my_rbf_kernel(X, X)\n",
    "linear_G = my_rbf_kernel(X, X) #To find Gram Matrix\n",
    "\n",
    "for lamb in lamb_list:\n",
    "\n",
    "    a = np.linalg.pinv(linear_G + lamb * np.eye(X.shape[1])) @ Y.T\n",
    "    pred = np.dot(kx.T, a)\n",
    "    \n",
    "    mse_list_kernel_rbf.append(mse(Y.T, pred))\n",
    "    \n",
    "    Yhat_prob = softmax(pred)\n",
    "    pred_labels = np.argmax(Yhat_prob, axis = 1)\n",
    "    acc = accuracy_score(target, pred_labels)\n",
    "    acc_list_kernel_rbf.append(acc)"
   ]
  },
  {
   "cell_type": "code",
   "execution_count": 36,
   "id": "dd3b1f4a",
   "metadata": {
    "scrolled": true
   },
   "outputs": [
    {
     "data": {
      "text/plain": [
       "Text(0.5, 1.0, 'MSE against the regularization parameter')"
      ]
     },
     "execution_count": 36,
     "metadata": {},
     "output_type": "execute_result"
    },
    {
     "data": {
      "image/png": "[encoded data removed]",
      "text/plain": [
       "<Figure size 720x360 with 1 Axes>"
      ]
     },
     "metadata": {
      "needs_background": "light"
     },
     "output_type": "display_data"
    }
   ],
   "source": [
    "fig, ax = plt.subplots(figsize = (10, 5))\n",
    "sns.lineplot(x = lamb_list, y = mse_list_kernel_rbf)\n",
    "ax.set_xlabel('lambda')\n",
    "ax.set_ylabel('mse')\n",
    "ax.set_title(\"MSE against the regularization parameter\")"
   ]
  },
  {
   "cell_type": "code",
   "execution_count": 37,
   "id": "fd38a859",
   "metadata": {
    "scrolled": true
   },
   "outputs": [
    {
     "data": {
      "text/plain": [
       "Text(0.5, 1.0, 'Accuracy against the regularization parameter')"
      ]
     },
     "execution_count": 37,
     "metadata": {},
     "output_type": "execute_result"
    },
    {
     "data": {
      "image/png": "[encoded data removed]",
      "text/plain": [
       "<Figure size 720x360 with 1 Axes>"
      ]
     },
     "metadata": {
      "needs_background": "light"
     },
     "output_type": "display_data"
    }
   ],
   "source": [
    "fig, ax = plt.subplots(figsize = (10, 5))\n",
    "sns.lineplot(x = lamb_list, y = acc_list_kernel_rbf)\n",
    "ax.set_xlabel('lambda')\n",
    "ax.set_ylabel('accuracy')\n",
    "ax.set_title(\"Accuracy against the regularization parameter\")"
   ]
  },
  {
   "cell_type": "markdown",
   "id": "89fd3b2d",
   "metadata": {},
   "source": [
    "### Answer\n",
    "By comparing, when lambda is smaller than 3, the MSE of kernel regression with rbf kernel is smaller which is 0-0.03 when comparing with linear regression. As lambda grows larger, MSE of kernel regression is larger.\n",
    "But the accuracy of  rbf kernel regression is 1, which is better than linear regression.\n",
    "\n",
    "The reason why MSE is higher but accuracy is also higher might be that the probability of other class is more equally distributed when comparing with linear regression"
   ]
  },
  {
   "cell_type": "markdown",
   "id": "97213b2f",
   "metadata": {},
   "source": [
    "## Part 3 - Kernel substitution (SVM)\n",
    "\n",
    "In this part of the project, you are going to implement the optimization problem of the Support Vector Machine (SVM) and compare its performances with the algorithms of the previous part.\n",
    "For simplicity and to keep the focus on the optimization problem, we will implement SVM for a binary classification task."
   ]
  },
  {
   "cell_type": "markdown",
   "id": "4263b218",
   "metadata": {},
   "source": [
    "### Dataset\n",
    "\n",
    "The dataset we used for linear prediction is a multiclass classification dataset, we thus need to adapt the dataset to perform a binary classification task.\n",
    "\n",
    "#### Task\n",
    "- Come up with a binary classification task on the image dataset we introduced above. Present in details the input and target data you will be using.\n",
    "- Compute the baseline performance on this new task with the linear prediction algorithm in part 1."
   ]
  },
  {
   "cell_type": "code",
   "execution_count": 38,
   "id": "850a6e23",
   "metadata": {},
   "outputs": [
    {
     "data": {
      "text/plain": [
       "(1797,)"
      ]
     },
     "execution_count": 38,
     "metadata": {},
     "output_type": "execute_result"
    }
   ],
   "source": [
    "mnist['target'].shape"
   ]
  },
  {
   "cell_type": "code",
   "execution_count": 39,
   "id": "0869f313",
   "metadata": {},
   "outputs": [],
   "source": [
    "target = mnist['target']"
   ]
  },
  {
   "cell_type": "code",
   "execution_count": 40,
   "id": "b3482ca7",
   "metadata": {},
   "outputs": [],
   "source": [
    "target_binary = target.reshape(-1, 1)\n",
    "target_binary[target_binary == 0] = -1\n",
    "target_binary[target_binary != -1] = 1\n",
    "X_binary = X\n",
    "ohe_1 = OneHotEncoder()\n",
    "Y_binary = ohe_1.fit_transform(target_binary.reshape(-1, 1)).toarray()\n",
    "Y_binary = np.transpose(Y_binary, (1, 0))"
   ]
  },
  {
   "cell_type": "code",
   "execution_count": 41,
   "id": "6c8a7337",
   "metadata": {},
   "outputs": [
    {
     "data": {
      "text/plain": [
       "(64, 1797)"
      ]
     },
     "execution_count": 41,
     "metadata": {},
     "output_type": "execute_result"
    }
   ],
   "source": [
    "X_binary.shape"
   ]
  },
  {
   "cell_type": "code",
   "execution_count": 42,
   "id": "f25205e4",
   "metadata": {},
   "outputs": [
    {
     "data": {
      "text/plain": [
       "(2, 1797)"
      ]
     },
     "execution_count": 42,
     "metadata": {},
     "output_type": "execute_result"
    }
   ],
   "source": [
    "Y_binary.shape"
   ]
  },
  {
   "cell_type": "markdown",
   "id": "cf481cbf",
   "metadata": {},
   "source": [
    "# MSE and Accuracy when applying linear method in part 1"
   ]
  },
  {
   "cell_type": "code",
   "execution_count": 43,
   "id": "a0c2c3bc",
   "metadata": {},
   "outputs": [
    {
     "name": "stdout",
     "output_type": "stream",
     "text": [
      "0.02415592588194723\n"
     ]
    }
   ],
   "source": [
    "#The dataset performance on linear prediction algorithm\n",
    "Astar = get_mmse(X_binary, Y_binary, lamb = 0)\n",
    "Yhat = Astar @ X_binary\n",
    "print(mse(Y_binary, Yhat))\n",
    "Yhat_prob = softmax(Yhat)\n",
    "pred_labels = np.argmax(Yhat_prob, axis = 0)\n",
    "#acc_list_binary.append(accuracy_score(target_binary, pred_labels))"
   ]
  },
  {
   "cell_type": "code",
   "execution_count": 44,
   "id": "9d84a172",
   "metadata": {},
   "outputs": [],
   "source": [
    "pred_labels[pred_labels == 0] = -1"
   ]
  },
  {
   "cell_type": "code",
   "execution_count": 45,
   "id": "27743814",
   "metadata": {},
   "outputs": [
    {
     "data": {
      "text/plain": [
       "0.996661101836394"
      ]
     },
     "execution_count": 45,
     "metadata": {},
     "output_type": "execute_result"
    }
   ],
   "source": [
    "accuracy_score(target_binary, pred_labels)"
   ]
  },
  {
   "cell_type": "markdown",
   "id": "fbcb178c",
   "metadata": {},
   "source": [
    "### The SVM optimization problem\n",
    "\n",
    "Recall that the optimization problem of a Support Vector Machine can be written as a quadratic program (QP):\n",
    "\\begin{equation}\n",
    "    \\underset{\\mathbf{w}}{\\text{minimize }} \\frac{1}{2} ||\\mathbf{w}||_2 \\\\\n",
    "    \\text{subject to } (\\mathbf{w}^T\\phi(\\mathbf{x}_i) + \\mathbf{b})\\mathbf{y}_i \\geq 0, \\text{ for } i=1,\\cdots,n.\n",
    "\\end{equation}\n",
    "\n",
    "This initial problem is to be reformulated before it can be implemented.\n",
    "This is because this problem depends upon function $\\phi$, which as we saw, leads to a vector of infinite dimension for the RBF kernel and cannot be implemented.\n",
    "The problem is to be reformulated into another QP where we can use the Gram matrix associated with the RBF kernel on the training data instead of $\\phi$.\n",
    "\n",
    "### Task\n",
    "- Make sure that you understood the derivation of the problem in tutorial 3 !"
   ]
  },
  {
   "cell_type": "markdown",
   "id": "53e91bd2",
   "metadata": {},
   "source": [
    "### Implementation\n",
    "\n",
    "In Python you can find a lot of libraries to help you solve QPs with efficient algorithms.\n",
    "One such library is `cvxopt`. \n",
    "In this library you will find an algorithm for solving quadratic problems formulated in a standard way.\n",
    "\n",
    "The solver is implemented in function `cvxopt.solvers.qp` and solves problems formulated as:\n",
    "\n",
    "\\begin{align}\n",
    "\\underset{\\mathbf{w}}{\\text{minimize }}\\quad&    \\frac{1}{2}\\mathbf{w}^T P\\mathbf{w} + \\mathbf{q}^T\\mathbf{w}\\\\\n",
    "\\text{subject to } \\quad&   G\\mathbf{w} <= \\mathbf{h}\\\\\n",
    "            & A\\mathbf{w} = \\mathbf{b}.\n",
    "\\end{align}\n",
    "\n",
    "**Input arguments**\n",
    "\n",
    "- P is a n x n dense or sparse 'd' matrix with the lower triangular part of P stored in the lower triangle.  Must be positive semidefinite.\n",
    "\n",
    "- q is an n x 1 dense 'd' matrix.\n",
    "\n",
    "- G is an m x n dense or sparse 'd' matrix.\n",
    "\n",
    "- h is an m x 1 dense 'd' matrix.\n",
    "\n",
    "- A is a p x n dense or sparse 'd' matrix.\n",
    "\n",
    "- b is a p x 1 dense 'd' matrix or None.\n",
    "\n",
    "- solver is None or 'mosek'.\n",
    "\n",
    "The default values for G, h, A and b are empty matrices with zero rows.\n",
    "\n",
    "You will find the complete doc here : http://cvxopt.org/index.html"
   ]
  },
  {
   "cell_type": "markdown",
   "id": "1eb7806c",
   "metadata": {},
   "source": [
    "### Task \n",
    "- Implement the support vector machine optimization algorithm using the `cvxopt` library. Your algorithm should work with the linear and RBF kernels."
   ]
  },
  {
   "cell_type": "markdown",
   "id": "0e7acee3",
   "metadata": {},
   "source": [
    "# Linear kernel"
   ]
  },
  {
   "cell_type": "code",
   "execution_count": 46,
   "id": "0a8fb1e1",
   "metadata": {},
   "outputs": [
    {
     "data": {
      "text/plain": [
       "numpy.int64"
      ]
     },
     "execution_count": 46,
     "metadata": {},
     "output_type": "execute_result"
    }
   ],
   "source": [
    "type(target_binary[0][0])"
   ]
  },
  {
   "cell_type": "code",
   "execution_count": 47,
   "id": "3e4907df",
   "metadata": {},
   "outputs": [
    {
     "data": {
      "text/plain": [
       "(64, 1797)"
      ]
     },
     "execution_count": 47,
     "metadata": {},
     "output_type": "execute_result"
    }
   ],
   "source": [
    "X_binary.shape"
   ]
  },
  {
   "cell_type": "code",
   "execution_count": 48,
   "id": "e79f772f",
   "metadata": {},
   "outputs": [
    {
     "data": {
      "text/plain": [
       "(1797, 1)"
      ]
     },
     "execution_count": 48,
     "metadata": {},
     "output_type": "execute_result"
    }
   ],
   "source": [
    "target_binary.shape"
   ]
  },
  {
   "cell_type": "code",
   "execution_count": 49,
   "id": "eda70e28",
   "metadata": {
    "scrolled": true
   },
   "outputs": [
    {
     "data": {
      "text/plain": [
       "(1797, 1)"
      ]
     },
     "execution_count": 49,
     "metadata": {},
     "output_type": "execute_result"
    }
   ],
   "source": [
    "target_binary.shape"
   ]
  },
  {
   "cell_type": "code",
   "execution_count": 50,
   "id": "eac7927d",
   "metadata": {
    "scrolled": true
   },
   "outputs": [
    {
     "name": "stdout",
     "output_type": "stream",
     "text": [
      "     pcost       dcost       gap    pres   dres\n",
      " 0: -1.5146e+02 -3.7051e+02  7e+03  7e+01  2e+00\n",
      " 1: -2.2313e+02 -3.2356e+02  5e+03  4e+01  1e+00\n",
      " 2: -2.4887e+02 -1.6950e+02  3e+03  2e+01  7e-01\n",
      " 3: -1.0658e+02 -1.7452e+01  6e+02  4e+00  2e-01\n",
      " 4: -1.3212e+01 -5.3394e-01  7e+01  5e-01  2e-02\n",
      " 5: -1.4025e+00 -1.5844e-01  9e+00  6e-02  2e-03\n",
      " 6: -3.9821e-01 -1.1697e-01  3e+00  2e-02  7e-04\n",
      " 7: -1.6306e-01 -1.0069e-01  2e+00  1e-02  3e-04\n",
      " 8: -5.4894e-02 -8.2382e-02  5e-01  3e-03  1e-04\n",
      " 9: -3.0582e-02 -7.0110e-02  2e-01  8e-04  3e-05\n",
      "10: -3.7387e-02 -6.2806e-02  4e-02  7e-05  2e-06\n",
      "11: -4.8613e-02 -6.1310e-02  1e-02  1e-06  5e-08\n",
      "12: -5.5559e-02 -6.0041e-02  5e-03  5e-07  2e-08\n",
      "13: -5.7722e-02 -5.9616e-02  2e-03  2e-17  5e-14\n",
      "14: -5.9502e-02 -5.9537e-02  3e-05  7e-18  5e-14\n",
      "15: -5.9535e-02 -5.9535e-02  3e-07  1e-17  5e-14\n",
      "16: -5.9535e-02 -5.9535e-02  3e-09  1e-17  5e-14\n",
      "Optimal solution found.\n"
     ]
    }
   ],
   "source": [
    "#For linear kernel\n",
    "m, n = np.shape(X_binary)\n",
    "P = matrix(np.multiply(target_binary @ target_binary.T, my_linear_kernel(X_binary, X_binary)))\n",
    "q = matrix(- np.ones((n, 1)))\n",
    "G = matrix(- np.eye(n))\n",
    "h = matrix(np.zeros((n, 1)))\n",
    "A = matrix(target_binary.reshape(1, -1).astype('float'))\n",
    "b = matrix(np.zeros(1))\n",
    "\n",
    "solution = solvers.qp(P, q, G, h, A, b)\n",
    "a_linear = np.array(solution['x'])"
   ]
  },
  {
   "cell_type": "code",
   "execution_count": 51,
   "id": "17e419e7",
   "metadata": {},
   "outputs": [],
   "source": [
    "w_linear = ((target_binary * a_linear).T @ X_binary.T).reshape(-1, 1)\n",
    "#Find the set that is not 0\n",
    "S_linear = (a_linear > 1e-4).flatten()\n",
    "X_S_binary = X_binary[:, S_linear]\n",
    "#b = np.sum(target_binary[S_linear] - np.dot(X_S_binary.T, w_linear))/np.sum(S_linear)\n",
    "\n",
    "b = np.sum(target_binary[S_linear] - (np.multiply(a_linear[S_linear].T, target_binary[S_linear].T) @ my_linear_kernel(X_S_binary, X_S_binary)).T)/np.sum(S_linear)"
   ]
  },
  {
   "cell_type": "code",
   "execution_count": 52,
   "id": "81b6bace",
   "metadata": {},
   "outputs": [],
   "source": [
    "y_linear = np.multiply(a_linear, target_binary).T @ my_linear_kernel(X_binary, X_binary) + b"
   ]
  },
  {
   "cell_type": "code",
   "execution_count": 53,
   "id": "fecc2aec",
   "metadata": {},
   "outputs": [
    {
     "data": {
      "text/plain": [
       "array([0.99387869])"
      ]
     },
     "execution_count": 53,
     "metadata": {},
     "output_type": "execute_result"
    }
   ],
   "source": [
    "sum(np.multiply(y_linear.reshape(-1, 1), target_binary) >= 1)/X.shape[1]"
   ]
  },
  {
   "cell_type": "markdown",
   "id": "43c2c4d9",
   "metadata": {},
   "source": [
    "# rbf kernel with Gamma 50"
   ]
  },
  {
   "cell_type": "code",
   "execution_count": 54,
   "id": "f4d234a0",
   "metadata": {
    "scrolled": true
   },
   "outputs": [
    {
     "name": "stdout",
     "output_type": "stream",
     "text": [
      "     pcost       dcost       gap    pres   dres\n",
      " 0: -2.4055e+02 -6.8989e+02  4e+02  1e-13  2e+00\n",
      " 1: -2.9447e+02 -3.0089e+02  6e+00  2e-14  3e-01\n",
      " 2: -3.2074e+02 -3.2203e+02  1e+00  6e-12  4e-17\n",
      " 3: -3.2074e+02 -3.2075e+02  1e-02  1e-12  2e-17\n",
      " 4: -3.2074e+02 -3.2074e+02  1e-04  3e-13  3e-17\n",
      "Optimal solution found.\n"
     ]
    }
   ],
   "source": [
    "#As we need to solve qp, we first need to calculate P, q, h, G, A, b\n",
    "#For rbf_kernel\n",
    "rbf_kernel = my_rbf_kernel(X_binary, X_binary, sigma = 0.1)\n",
    "m, n = matrix(np.shape(X_binary))\n",
    "P = matrix(np.multiply(target_binary @ target_binary.T, rbf_kernel))\n",
    "q = matrix(- np.ones((n, 1)))\n",
    "G = matrix(- np.eye(n))\n",
    "h = matrix(np.zeros((n, 1)))\n",
    "A = matrix(target_binary.reshape(1, -1).astype('float'))\n",
    "b = matrix(np.zeros(1))\n",
    "\n",
    "solution = solvers.qp(P, q, G, h, A, b)\n",
    "a_rbf = np.array(solution['x'])"
   ]
  },
  {
   "cell_type": "code",
   "execution_count": 55,
   "id": "a388e4f6",
   "metadata": {},
   "outputs": [
    {
     "data": {
      "text/plain": [
       "(1797, 1)"
      ]
     },
     "execution_count": 55,
     "metadata": {},
     "output_type": "execute_result"
    }
   ],
   "source": [
    "a_rbf.shape"
   ]
  },
  {
   "cell_type": "code",
   "execution_count": 56,
   "id": "e663eeb9",
   "metadata": {},
   "outputs": [
    {
     "data": {
      "text/plain": [
       "(1797, 1797)"
      ]
     },
     "execution_count": 56,
     "metadata": {},
     "output_type": "execute_result"
    }
   ],
   "source": [
    "rbf_kernel.shape"
   ]
  },
  {
   "cell_type": "code",
   "execution_count": 57,
   "id": "c7233aa4",
   "metadata": {},
   "outputs": [],
   "source": [
    "w_rbf = ((target_binary * a_rbf).T @ X_binary.T).reshape(-1, 1)\n",
    "#Find the set that is not 0\n",
    "S_rbf = (a_rbf > 1e-4).flatten()\n",
    "X_S_binary = X_binary[:, S_rbf]\n",
    "#b = np.sum(target_binary[S_rbf] - np.dot(X_S_binary.T, w_rbf))/np.sum(S_rbf)\n",
    "b = np.sum(target_binary[S_rbf] - (np.multiply(a_rbf[S_rbf].T, target_binary[S_rbf].T) @ my_rbf_kernel(X_S_binary, X_S_binary, sigma = 0.1)).T)/np.sum(S_rbf)"
   ]
  },
  {
   "cell_type": "code",
   "execution_count": 58,
   "id": "2a920327",
   "metadata": {},
   "outputs": [],
   "source": [
    "y_rbf = np.multiply(a_rbf, target_binary).T @  my_rbf_kernel(X_S_binary, X_S_binary, sigma = 0.1) + b"
   ]
  },
  {
   "cell_type": "code",
   "execution_count": 59,
   "id": "2beb085c",
   "metadata": {},
   "outputs": [
    {
     "data": {
      "text/plain": [
       "array([1.])"
      ]
     },
     "execution_count": 59,
     "metadata": {},
     "output_type": "execute_result"
    }
   ],
   "source": [
    "sum(np.multiply(y_rbf.reshape(-1, 1), target_binary) >= 1)/X.shape[1]"
   ]
  },
  {
   "cell_type": "markdown",
   "id": "029f3a61",
   "metadata": {},
   "source": [
    "# rbf kernel with Gamma = 0.2"
   ]
  },
  {
   "cell_type": "code",
   "execution_count": 61,
   "id": "22eee4e5",
   "metadata": {},
   "outputs": [
    {
     "name": "stdout",
     "output_type": "stream",
     "text": [
      "     pcost       dcost       gap    pres   dres\n",
      " 0: -2.2755e+02 -6.6494e+02  4e+02  6e-13  2e+00\n",
      " 1: -2.7414e+02 -2.8555e+02  1e+01  3e-15  3e-01\n",
      " 2: -2.9641e+02 -2.9817e+02  2e+00  3e-13  7e-16\n",
      " 3: -2.9641e+02 -2.9644e+02  3e-02  9e-14  5e-16\n",
      " 4: -2.9641e+02 -2.9641e+02  3e-04  8e-15  4e-16\n",
      "Optimal solution found.\n"
     ]
    }
   ],
   "source": [
    "rbf_kernel = my_rbf_kernel(X_binary, X_binary, sigma = 5)\n",
    "m, n = matrix(np.shape(X_binary))\n",
    "P = matrix(np.multiply(target_binary @ target_binary.T, rbf_kernel))\n",
    "q = matrix(- np.ones((n, 1)))\n",
    "G = matrix(- np.eye(n))\n",
    "h = matrix(np.zeros((n, 1)))\n",
    "A = matrix(target_binary.reshape(1, -1).astype('float'))\n",
    "b = matrix(np.zeros(1))\n",
    "\n",
    "solution = solvers.qp(P, q, G, h, A, b)\n",
    "a_rbf = np.array(solution['x'])"
   ]
  },
  {
   "cell_type": "code",
   "execution_count": 62,
   "id": "28a37c05",
   "metadata": {},
   "outputs": [],
   "source": [
    "w_rbf = ((target_binary * a_rbf).T @ X_binary.T).reshape(-1, 1)\n",
    "#Find the set that is not 0\n",
    "S_rbf = (a_rbf > 1e-4).flatten()\n",
    "X_S_binary = X_binary[:, S_rbf]\n",
    "#b = np.sum(target_binary[S_rbf] - np.dot(X_S_binary.T, w_rbf))/np.sum(S_rbf)\n",
    "b = np.sum(target_binary[S_rbf] - (np.multiply(a_rbf[S_rbf].T, target_binary[S_rbf].T) @ my_rbf_kernel(X_S_binary, X_S_binary, sigma = 5)).T)/np.sum(S_rbf)"
   ]
  },
  {
   "cell_type": "code",
   "execution_count": 63,
   "id": "5d93f4ec",
   "metadata": {},
   "outputs": [],
   "source": [
    "y_rbf = np.multiply(a_rbf, target_binary).T @  my_rbf_kernel(X_S_binary, X_S_binary, sigma = 5) + b"
   ]
  },
  {
   "cell_type": "code",
   "execution_count": 64,
   "id": "7af2c265",
   "metadata": {},
   "outputs": [
    {
     "data": {
      "text/plain": [
       "array([0.94323873])"
      ]
     },
     "execution_count": 64,
     "metadata": {},
     "output_type": "execute_result"
    }
   ],
   "source": [
    "sum(np.multiply(y_rbf.reshape(-1, 1), target_binary) >= 1)/X.shape[1]"
   ]
  },
  {
   "cell_type": "markdown",
   "id": "6b7772d6",
   "metadata": {},
   "source": [
    "### Model evaluation\n",
    "\n",
    "Now that the SVM is implemented, we can test it and compare its performances with other methods.\n",
    "\n",
    "\n",
    "### Tasks\n",
    "- Compare the performances of the linear and RBF kernel based SVM on the binary classification task.\n",
    "- Study the influence of the RBF's kernel scaling parameter.\n",
    "- What is the difference between a linear SVM and the linear classification algorithm (with $\\lambda=0$) of part 1 ?\n",
    "- Compare the performances of the linear algorithms with the RBF kernel based SVM.\n",
    "- Discuss your findings"
   ]
  },
  {
   "cell_type": "markdown",
   "id": "296a49c2",
   "metadata": {},
   "source": [
    "### Answer\n",
    "1. The accuracy of SVM with linear kernel is 0.99387869 and accuracy of SVM with rbf kernel is 1\n",
    "2. When gamma is set to 50, the accuracy is 1. When gamma decreases to 0.2, accuracy has droped to 0.94323873. When gamma is larger, the kernel will fall off rapidly when the distance between x' and x is large. As gamma decreases, the kernel will fall off less and less. When it is 0, the kernel will the same, which is 1. In general, the value of gamma should be decided by the distribution of the data. If data points are far away and we would like it fall less, gamma should be set small.\n",
    "3. The accuracy of linear classification algorithm is 0.996661101836394 and accuracy of SVM with linear kernel is 0.99387869. It is kind of similar. In this situation, linear classification outperform SVM with linear kernel. The difference is that the linear classification is to maximize the posterior probability to find the parameter w while SVM is a decision machine so does not provide posterior probabilities. For linear classification, w could be found by taking derivative of cost function directly, while SVM is to find the parameter that maximizes the margin.\n",
    "4. The accuracy of SVM with rbf kernel is 1, and it is better than that of linear algorithm. And one specific difference when training is that SVM with rbf kernel needs more time to run. And it is not guaranteed that rbf kernel works better than linear as it depends on the dataset."
   ]
  },
  {
   "cell_type": "markdown",
   "id": "9fad0f97",
   "metadata": {},
   "source": [
    "## Part 4 - Gaussian Processes\n",
    "\n",
    "The main focus is to implement a Gaussian process model and visualize the output on a 1d regression task.\n",
    "\n",
    "\n",
    "### Dataset\n",
    "We propose to use a dataset generated artificially as below:"
   ]
  },
  {
   "cell_type": "code",
   "execution_count": 99,
   "id": "99372c32",
   "metadata": {
    "scrolled": true
   },
   "outputs": [
    {
     "data": {
      "image/png": "[encoded data removed]",
      "text/plain": [
       "<Figure size 1080x648 with 1 Axes>"
      ]
     },
     "metadata": {
      "needs_background": "light"
     },
     "output_type": "display_data"
    }
   ],
   "source": [
    "import scipy.stats as st\n",
    "\n",
    "def sindata(n,f=3,snoise=0.1,random=True):\n",
    "    \n",
    "    np.random.seed(0)\n",
    "    \n",
    "    if random:\n",
    "        # Randomly spaced\n",
    "        x = np.sort(np.random.rand(n)).reshape(-1,1)\n",
    "    else:\n",
    "        x = np.linspace(0,1,n).reshape(-1,1)\n",
    "        \n",
    "    y = np.sin(2*np.pi*x*f + 0.6*np.sin(2*np.pi*x*f*1.5 ))\n",
    "\n",
    "    return x, y+np.random.randn(n,1)*snoise\n",
    "\n",
    "fig, ax = plt.subplots(figsize=(15,9))\n",
    "\n",
    "# Plot a regular line as the target function\n",
    "ax.plot(*sindata(1000, snoise=0,random=False),\n",
    "        linewidth=1,color=\"darkgreen\",label=\"Target function\",linestyle=\"--\")\n",
    "\n",
    "# Draw noisy data points from the trajectory above\n",
    "ntrain=20\n",
    "xtrain, ytrain = sindata(ntrain,snoise=.1,random=False)\n",
    "\n",
    "ax.scatter(xtrain, ytrain, s=40,c=\"darkred\",label=\"Training data\", linewidths = 0.2)\n",
    "\n",
    "ax.scatter(x = xtest.ravel(), y = mean, label = 'Mean', s = 10, linewidths = 0.2, color = \"red\")\n",
    "\n",
    "samples = np.random.multivariate_normal(mean, covariance, 10)\n",
    "\n",
    "variance = np.array(variance)\n",
    "variance[variance < 0] = 0\n",
    "lower_bound = mean - 2 * np.sqrt(variance)\n",
    "upper_bound = mean + 2 * np.sqrt(variance)\n",
    "\n",
    "plt.fill_between(xtest.ravel(), lower_bound, upper_bound, alpha=0.5,\n",
    "                 label='confidence interval')\n",
    "\n",
    "for i in range(5):\n",
    "    ax.scatter(x = xtest.ravel(), y = samples[i, :].ravel(), label = 'Sample', s = 5, linewidths = 0.2, color = 'blue')\n",
    "\n",
    "ax.plot()\n",
    "\n",
    "ax.legend();"
   ]
  },
  {
   "cell_type": "code",
   "execution_count": 86,
   "id": "fff8bf05",
   "metadata": {},
   "outputs": [],
   "source": [
    "# Test data\n",
    "xtest = np.linspace(0,1,1000).reshape(-1,1)"
   ]
  },
  {
   "cell_type": "markdown",
   "id": "e1a8e5e0",
   "metadata": {},
   "source": [
    "### Task\n",
    "- Using the theory presented in tutorial 3 section 1.4, reproduce a figure similar to:\n",
    "\n",
    "<center><img src=\"GPR_sinusoide_example.png\"/></center>"
   ]
  },
  {
   "cell_type": "code",
   "execution_count": 87,
   "id": "5395e0d8",
   "metadata": {},
   "outputs": [],
   "source": [
    "sigma = 0.05\n",
    "C = my_rbf_kernel(xtrain.T, xtrain.T, sigma)"
   ]
  },
  {
   "cell_type": "code",
   "execution_count": 88,
   "id": "b933adb9",
   "metadata": {},
   "outputs": [],
   "source": [
    "#to get the mean\n",
    "def cal_k(xtrain, xtest, index, sigma):\n",
    "    k = np.zeros((xtrain.shape[0], 1))\n",
    "    for i in range(xtrain.shape[0]):\n",
    "        k[i] = np.exp(-(xtrain.ravel()[i] - xtest.ravel()[index])**2/(2 * (sigma**2)))\n",
    "    return k"
   ]
  },
  {
   "cell_type": "code",
   "execution_count": 89,
   "id": "f575c03f",
   "metadata": {},
   "outputs": [],
   "source": [
    "def cal_mean(k, C, t):\n",
    "    return k.T @ np.linalg.inv(C) @ t"
   ]
  },
  {
   "cell_type": "code",
   "execution_count": 90,
   "id": "e09903df",
   "metadata": {},
   "outputs": [],
   "source": [
    "def cal_variance(c, k, C):\n",
    "    return c - k.T @ np.linalg.inv(C) @ k"
   ]
  },
  {
   "cell_type": "code",
   "execution_count": 91,
   "id": "8bbe517e",
   "metadata": {},
   "outputs": [],
   "source": [
    "#mean = np.zeros((1000, 1))\n",
    "#variance = np.zeros((1000, 1))\n",
    "mean = []\n",
    "variance = []\n",
    "length = 20\n",
    "#C_20 = cal_C(xtrain, length)\n",
    "#C_final = np.zeros((21, 21))\n",
    "#C_final[:20, :20] = C_20 + np.eye(20)\n",
    "C = my_rbf_kernel(xtrain.T, xtrain.T, sigma)\n",
    "for index in range(1000):\n",
    "    k = cal_k(xtrain, xtest, index, sigma)\n",
    "    c = np.exp(-(xtest.ravel()[index] - xtest.ravel()[index])**2/(2 * (sigma**2)))\n",
    "    t = ytrain\n",
    "    \n",
    "    mean.append(float(cal_mean(k, C, t)[0]))\n",
    "    variance.append(float(cal_variance(c, k, C)[0]))\n",
    "    #mean += cal_mean(k, C, t).tolist()\n",
    "    #variance += cal_variance(c, k, C).tolist()"
   ]
  },
  {
   "cell_type": "code",
   "execution_count": 92,
   "id": "b75c49b2",
   "metadata": {
    "scrolled": true
   },
   "outputs": [
    {
     "data": {
      "text/plain": [
       "<AxesSubplot:>"
      ]
     },
     "execution_count": 92,
     "metadata": {},
     "output_type": "execute_result"
    },
    {
     "data": {
      "image/png": "[encoded data removed]",
      "text/plain": [
       "<Figure size 1440x360 with 1 Axes>"
      ]
     },
     "metadata": {
      "needs_background": "light"
     },
     "output_type": "display_data"
    }
   ],
   "source": [
    "fig, ax = plt.subplots(figsize = (20, 5))\n",
    "sns.scatterplot(x = xtest.ravel(), y = mean)"
   ]
  },
  {
   "cell_type": "code",
   "execution_count": 93,
   "id": "3caab94b",
   "metadata": {},
   "outputs": [
    {
     "data": {
      "text/plain": [
       "0.05"
      ]
     },
     "execution_count": 93,
     "metadata": {},
     "output_type": "execute_result"
    }
   ],
   "source": [
    "sigma"
   ]
  },
  {
   "cell_type": "code",
   "execution_count": 94,
   "id": "753016c9",
   "metadata": {},
   "outputs": [],
   "source": [
    "def cal_k_matrix(xtrain, xtest, sigma):\n",
    "    k_matrix = np.zeros((xtrain.shape[0], xtest.shape[0]))\n",
    "    for i in range(xtrain.shape[0]):\n",
    "        for j in range(xtest.shape[0]):\n",
    "            k_matrix[i][j] = np.exp(-(xtrain.ravel()[i] - xtest.ravel()[j])**2/(2 * (sigma**2)))\n",
    "    return k_matrix"
   ]
  },
  {
   "cell_type": "code",
   "execution_count": 95,
   "id": "4b1b9a4e",
   "metadata": {},
   "outputs": [],
   "source": [
    "def cal_c_matrix(xtest, sigma):\n",
    "    c_matrix = np.zeros((xtest.shape[0], xtest.shape[0]))\n",
    "    for i in range(xtest.shape[0]):\n",
    "        for j in range(xtest.shape[0]):\n",
    "            c_matrix[i][j] = np.exp(-(xtest.ravel()[i] - xtest.ravel()[j])**2/(2 * (sigma**2)))\n",
    "    return c_matrix"
   ]
  },
  {
   "cell_type": "code",
   "execution_count": 96,
   "id": "268e3c2f",
   "metadata": {},
   "outputs": [],
   "source": [
    "c_matrix = cal_c_matrix(xtest, sigma)\n",
    "k_matrix = cal_k_matrix(xtrain, xtest, sigma)\n",
    "covariance = c_matrix - k_matrix.T @ np.linalg.inv(C) @ k_matrix"
   ]
  },
  {
   "cell_type": "code",
   "execution_count": 97,
   "id": "6bf2eef9",
   "metadata": {
    "scrolled": true
   },
   "outputs": [
    {
     "data": {
      "text/plain": [
       "array([[-2.22044605e-16, -2.22044605e-16, -2.22044605e-16, ...,\n",
       "        -3.26214151e-21, -3.22910741e-21, -3.19475607e-21],\n",
       "       [-2.22044605e-16,  1.26443719e-04,  2.48254007e-04, ...,\n",
       "         1.32917596e-08,  6.67772619e-09, -1.05879118e-22],\n",
       "       [-1.11022302e-16,  2.48254007e-04,  4.87471368e-04, ...,\n",
       "         2.64567412e-08,  1.32917596e-08,  4.44692297e-21],\n",
       "       ...,\n",
       "       [-2.58015632e-20,  1.32917596e-08,  2.64567412e-08, ...,\n",
       "         4.87471368e-04,  2.48254007e-04,  2.22044605e-16],\n",
       "       [-5.24290274e-21,  6.67772619e-09,  1.32917596e-08, ...,\n",
       "         2.48254007e-04,  1.26443719e-04,  0.00000000e+00],\n",
       "       [-2.69180127e-20, -2.48675496e-20, -2.28340811e-20, ...,\n",
       "         1.11022302e-16,  0.00000000e+00,  0.00000000e+00]])"
      ]
     },
     "execution_count": 97,
     "metadata": {},
     "output_type": "execute_result"
    }
   ],
   "source": [
    "covariance"
   ]
  },
  {
   "cell_type": "code",
   "execution_count": 98,
   "id": "b383fd19",
   "metadata": {},
   "outputs": [
    {
     "data": {
      "text/plain": [
       "[-2.220446049250313e-16,\n",
       " 0.000126443718816871,\n",
       " 0.00048747136780191713,\n",
       " 0.0010555517220726118,\n",
       " 0.0018031993315188455,\n",
       " 0.0027031571923417097,\n",
       " 0.0037285767367787326,\n",
       " 0.0048531936332683046,\n",
       " 0.006051497910064096,\n",
       " 0.007298896950826417,\n",
       " 0.008571869960890433,\n",
       " 0.009848112567577116,\n",
       " 0.011106670296619936,\n",
       " 0.01232805975903295,\n",
       " 0.013494376487790616,\n",
       " 0.014589388480682253,\n",
       " 0.015598614633645536,\n",
       " 0.01650938738653962,\n",
       " 0.01731089904952332,\n",
       " 0.017994231431402552,\n",
       " 0.01855236855011866,\n",
       " 0.018980192368260318,\n",
       " 0.01927446166147373,\n",
       " 0.019433774293152073,\n",
       " 0.01945851333304094,\n",
       " 0.0193507776186157,\n",
       " 0.019114297514454925,\n",
       " 0.01875433677464189,\n",
       " 0.018277581554674516,\n",
       " 0.017692017750908895,\n",
       " 0.017006797965523957,\n",
       " 0.016232099502029085,\n",
       " 0.01537897488904072,\n",
       " 0.014459196507264682,\n",
       " 0.013485096955377918,\n",
       " 0.012469406833830687,\n",
       " 0.01142509165099459,\n",
       " 0.010365189562991595,\n",
       " 0.00930265164674382,\n",
       " 0.008250186375297841,\n",
       " 0.007220109915405226,\n",
       " 0.006224203800193506,\n",
       " 0.005273581445056297,\n",
       " 0.004378564873582791,\n",
       " 0.003548572903364078,\n",
       " 0.002792021910227205,\n",
       " 0.0021162401451310098,\n",
       " 0.0015273964223786463,\n",
       " 0.0010304438325381415,\n",
       " 0.0006290789605132296,\n",
       " 0.0003257169104933233,\n",
       " 0.0001214822571277141,\n",
       " 1.6215858355206336e-05,\n",
       " 8.497282014241492e-06,\n",
       " 9.568241790491872e-05,\n",
       " 0.0002739556714574931,\n",
       " 0.0005383959667695226,\n",
       " 0.0008830556275125634,\n",
       " 0.001301051056050162,\n",
       " 0.001784663995871627,\n",
       " 0.0023254520418160007,\n",
       " 0.0029143669580476983,\n",
       " 0.003541879276681148,\n",
       " 0.004198107581431798,\n",
       " 0.00487295083161654,\n",
       " 0.005556222052856774,\n",
       " 0.006237781712381096,\n",
       " 0.006907669109043502,\n",
       " 0.00755623014093465,\n",
       " 0.008174239866413746,\n",
       " 0.008753018346922214,\n",
       " 0.009284538351182703,\n",
       " 0.009761523609197909,\n",
       " 0.010177536429550105,\n",
       " 0.010527053633286099,\n",
       " 0.010805529910426381,\n",
       " 0.011009447868911115,\n",
       " 0.011136354218598155,\n",
       " 0.011184881712476669,\n",
       " 0.011154756651361675,\n",
       " 0.011046791944586909,\n",
       " 0.010862865905251429,\n",
       " 0.010605887142022041,\n",
       " 0.010279746087963226,\n",
       " 0.009889253878077486,\n",
       " 0.009440069448968913,\n",
       " 0.008938615884178103,\n",
       " 0.008391987165355053,\n",
       " 0.007807846610712543,\n",
       " 0.0071943183866018945,\n",
       " 0.006559873564150109,\n",
       " 0.005913212259606948,\n",
       " 0.005263143443476337,\n",
       " 0.0046184640290106715,\n",
       " 0.003987838854935144,\n",
       " 0.00337968316022752,\n",
       " 0.0028020491106893752,\n",
       " 0.0022625178783342026,\n",
       " 0.0017680986961320366,\n",
       " 0.0013251362133691602,\n",
       " 0.0009392273621474656,\n",
       " 0.0006151488148278261,\n",
       " 0.0003567959673175247,\n",
       " 0.00016713422588865434,\n",
       " 4.8163207839624356e-05,\n",
       " 8.942909744957817e-07,\n",
       " 2.5341765969355556e-05,\n",
       " 0.00012052766158021644,\n",
       " 0.00028450012788405754,\n",
       " 0.0005143650797428956,\n",
       " 0.0008063306239232126,\n",
       " 0.001155763621260797,\n",
       " 0.0015572575721247706,\n",
       " 0.0020047108615777187,\n",
       " 0.0024914142619332225,\n",
       " 0.0030101464668932376,\n",
       " 0.003553276324702037,\n",
       " 0.004112870349239572,\n",
       " 0.004680804018926121,\n",
       " 0.005248875324613933,\n",
       " 0.005808919000010571,\n",
       " 0.006352919861927875,\n",
       " 0.006873123702922923,\n",
       " 0.007362144215439459,\n",
       " 0.007813064483868981,\n",
       " 0.008219531658286816,\n",
       " 0.00857584351984264,\n",
       " 0.008877025761648838,\n",
       " 0.009118898938912379,\n",
       " 0.009298134186190188,\n",
       " 0.009412296956100352,\n",
       " 0.009459878200351435,\n",
       " 0.009440312588343325,\n",
       " 0.009353983538379684,\n",
       " 0.009202215019288085,\n",
       " 0.008987250263413848,\n",
       " 0.008712217713015558,\n",
       " 0.008381084698549035,\n",
       " 0.007998599516755078,\n",
       " 0.007570222736484444,\n",
       " 0.007102048708646502,\n",
       " 0.006600718391429616,\n",
       " 0.006073324721226903,\n",
       " 0.0055273118617800154,\n",
       " 0.004970369747581582,\n",
       " 0.004410325401347226,\n",
       " 0.0038550325485161574,\n",
       " 0.0033122610736899816,\n",
       " 0.002789587864328147,\n",
       " 0.002294290565911794,\n",
       " 0.001833245730476718,\n",
       " 0.0014128327774330929,\n",
       " 0.001038845102901309,\n",
       " 0.000716409572483867,\n",
       " 0.0004499155138916189,\n",
       " 0.00024295419188069545,\n",
       " 9.826960025205445e-05,\n",
       " 1.7721246464930118e-05,\n",
       " 2.2594358014549343e-06,\n",
       " 5.1913386431068353e-05,\n",
       " 0.00016579232657709664,\n",
       " 0.00034209954284381006,\n",
       " 0.0005781591671136788,\n",
       " 0.0008704553108814794,\n",
       " 0.0012146829828963979,\n",
       " 0.0016058100610027992,\n",
       " 0.0020381494343849615,\n",
       " 0.0025054402902126016,\n",
       " 0.0030009373909676285,\n",
       " 0.0035175070772357486,\n",
       " 0.004047728637115777,\n",
       " 0.00458399960886513,\n",
       " 0.005118643529097633,\n",
       " 0.005644018605419965,\n",
       " 0.006152625780447618,\n",
       " 0.006637214663699709,\n",
       " 0.0070908858389339136,\n",
       " 0.007507188106480989,\n",
       " 0.007880209292452589,\n",
       " 0.008204659348218124,\n",
       " 0.008475944573034133,\n",
       " 0.008690231918622615,\n",
       " 0.008844502474992022,\n",
       " 0.008936593390014735,\n",
       " 0.008965227638909168,\n",
       " 0.008930031231657365,\n",
       " 0.008831537623973151,\n",
       " 0.008671179278318286,\n",
       " 0.008451266503013644,\n",
       " 0.008174953877186364,\n",
       " 0.007846194744594692,\n",
       " 0.007469684427808265,\n",
       " 0.0070507929733522046,\n",
       " 0.006595488386140325,\n",
       " 0.006110251445574866,\n",
       " 0.0056019833143025055,\n",
       " 0.005077907252074354,\n",
       " 0.0045454658300202455,\n",
       " 0.004012215103743388,\n",
       " 0.0034857172461185693,\n",
       " 0.0029734331618839205,\n",
       " 0.0024826166057723142,\n",
       " 0.0020202113040792558,\n",
       " 0.0015927525364477502,\n",
       " 0.0012062745709406908,\n",
       " 0.0008662252620491584,\n",
       " 0.0005773890193159215,\n",
       " 0.00034381923521975555,\n",
       " 0.00016878112651919075,\n",
       " 5.4705795321186024e-05,\n",
       " 3.156156806238819e-06,\n",
       " 1.4805212083635055e-05,\n",
       " 8.942696941516282e-05,\n",
       " 0.00022590013757839422,\n",
       " 0.0004222245339194908,\n",
       " 0.0006755499692939759,\n",
       " 0.000982217195147017,\n",
       " 0.0013378103269070518,\n",
       " 0.0017372199952252476,\n",
       " 0.002174716324466086,\n",
       " 0.002644030698659816,\n",
       " 0.003138445150604685,\n",
       " 0.0036508881019037265,\n",
       " 0.004174035091843109,\n",
       " 0.0047004130625047935,\n",
       " 0.005222506717349029,\n",
       " 0.005732865441393953,\n",
       " 0.006224209263467673,\n",
       " 0.0066895323549802654,\n",
       " 0.007122202594950888,\n",
       " 0.007516055787251563,\n",
       " 0.007865483192292855,\n",
       " 0.008165511130648229,\n",
       " 0.008411871529028003,\n",
       " 0.008601062407954996,\n",
       " 0.008730397453651562,\n",
       " 0.008798043971953606,\n",
       " 0.0088030486873516,\n",
       " 0.00874535102314189,\n",
       " 0.008625783676736387,\n",
       " 0.008446060484819662,\n",
       " 0.008208751753785215,\n",
       " 0.007917247409099382,\n",
       " 0.007575708490394906,\n",
       " 0.007189007684767379,\n",
       " 0.006762659746538224,\n",
       " 0.006302742795477823,\n",
       " 0.005815811615067279,\n",
       " 0.005308804186028526,\n",
       " 0.004788942786409178,\n",
       " 0.004263631066608986,\n",
       " 0.0037403485648286328,\n",
       " 0.003226544164633638,\n",
       " 0.002729530011180925,\n",
       " 0.002256377395943865,\n",
       " 0.0018138160915596169,\n",
       " 0.0014081385691517845,\n",
       " 0.0010451104608211192,\n",
       " 0.0007298885409502409,\n",
       " 0.00046694739280894737,\n",
       " 0.00026001580319667816,\n",
       " 0.00011202378926666867,\n",
       " 2.5061010233029535e-05,\n",
       " 3.4715451824318677e-07,\n",
       " 3.821472234699641e-05,\n",
       " 0.00013810444729223104,\n",
       " 0.00029857342030137346,\n",
       " 0.0005173157988793697,\n",
       " 0.0007911958049194867,\n",
       " 0.0011162925397389944,\n",
       " 0.0014879559766313166,\n",
       " 0.0019008733321529414,\n",
       " 0.002349144869648212,\n",
       " 0.002826368054237527,\n",
       " 0.0033257288596918455,\n",
       " 0.003840098925845581,\n",
       " 0.004362137181955106,\n",
       " 0.004884394487966404,\n",
       " 0.005399419802728733,\n",
       " 0.005899866366591677,\n",
       " 0.006378596385711255,\n",
       " 0.0068287827268536105,\n",
       " 0.007244006174162987,\n",
       " 0.0076183468626943585,\n",
       " 0.007946468586551791,\n",
       " 0.008223694781058555,\n",
       " 0.008446075097104933,\n",
       " 0.00861044161987945,\n",
       " 0.008714453931809585,\n",
       " 0.008756632378519424,\n",
       " 0.00873637906472191,\n",
       " 0.00865398628181846,\n",
       " 0.008510632248069583,\n",
       " 0.008308364222980646,\n",
       " 0.008050069237456325,\n",
       " 0.0077394328577066185,\n",
       " 0.0073808865714039,\n",
       " 0.0069795445466639405,\n",
       " 0.006541130665845052,\n",
       " 0.006071896874678795,\n",
       " 0.00557853401097852,\n",
       " 0.005068076384265985,\n",
       " 0.004547801466673329,\n",
       " 0.004025126125073886,\n",
       " 0.0035075008736227264,\n",
       " 0.003002303654050742,\n",
       " 0.002516734657701525,\n",
       " 0.0020577136884071257,\n",
       " 0.0016317815290114446,\n",
       " 0.0012450067172437018,\n",
       " 0.000902899059462281,\n",
       " 0.000610331114743512,\n",
       " 0.0003714687680939077,\n",
       " 0.0001897118820081145,\n",
       " 6.764587188190507e-05,\n",
       " 7.004895060891414e-06,\n",
       " 8.647177736298417e-06,\n",
       " 7.254283086699509e-05,\n",
       " 0.00019777432826451058,\n",
       " 0.00038254963948280984,\n",
       " 0.000624227829761792,\n",
       " 0.0009193567615506382,\n",
       " 0.0012637223596516645,\n",
       " 0.0016524087371888596,\n",
       " 0.002079868324800005,\n",
       " 0.0025400010028717723,\n",
       " 0.0030262411083216145,\n",
       " 0.003531651075202036,\n",
       " 0.0040490203738539066,\n",
       " 0.004570968337852088,\n",
       " 0.005090049412568298,\n",
       " 0.005598859324725813,\n",
       " 0.006090140659185894,\n",
       " 0.006556886337733658,\n",
       " 0.0069924395245426485,\n",
       " 0.007390588534007869,\n",
       " 0.007745655387903061,\n",
       " 0.008052576759386088,\n",
       " 0.008306976149982326,\n",
       " 0.008505226270651645,\n",
       " 0.00864450073777523,\n",
       " 0.008722814347237873,\n",
       " 0.008739051352652849,\n",
       " 0.008692981344847528,\n",
       " 0.008585262506474733,\n",
       " 0.008417432195691354,\n",
       " 0.008191884993447696,\n",
       " 0.0079118385277277,\n",
       " 0.007581287562340777,\n",
       " 0.007204947005180262,\n",
       " 0.006788184648872875,\n",
       " 0.006336944603108852,\n",
       " 0.005857662510664996,\n",
       " 0.005357173756285638,\n",
       " 0.004842615977457609,\n",
       " 0.004321327267361785,\n",
       " 0.0038007415217014007,\n",
       " 0.003288282421774924,\n",
       " 0.0027912575656354743,\n",
       " 0.0023167542570051713,\n",
       " 0.0018715384379728306,\n",
       " 0.0014619582066547343,\n",
       " 0.0010938532955871993,\n",
       " 0.0007724718016163257,\n",
       " 0.0005023953546156035,\n",
       " 0.0002874737920171011,\n",
       " 0.00013077027057906143,\n",
       " 3.4517597947480994e-05,\n",
       " 8.640658999414796e-08,\n",
       " 2.796562377238576e-05,\n",
       " 0.00011775551591286515,\n",
       " 0.0002681734063297858,\n",
       " 0.0004770719846551863,\n",
       " 0.0007414699466450347,\n",
       " 0.0010575945272629506,\n",
       " 0.0014209353203227248,\n",
       " 0.001826308617020378,\n",
       " 0.0022679313456975825,\n",
       " 0.002739503558250922,\n",
       " 0.0032342982867389347,\n",
       " 0.003745257488642517,\n",
       " 0.0042650927124137095,\n",
       " 0.004786389047642836,\n",
       " 0.005301710877344767,\n",
       " 0.005803707924179724,\n",
       " 0.006285220078243281,\n",
       " 0.006739379511440768,\n",
       " 0.007159708622185512,\n",
       " 0.0075402124136187965,\n",
       " 0.007875463987955689,\n",
       " 0.008160681937743441,\n",
       " 0.008391798530379968,\n",
       " 0.008565517713564952,\n",
       " 0.008679362114509592,\n",
       " 0.008731708362720747,\n",
       " 0.00872181023270091,\n",
       " 0.008649809276594644,\n",
       " 0.00851673279526366,\n",
       " 0.008324479176813893,\n",
       " 0.008075790811780892,\n",
       " 0.00777421497134434,\n",
       " 0.007424053206620873,\n",
       " 0.0070302999907739805,\n",
       " 0.006598571479111248,\n",
       " 0.006135025403251726,\n",
       " 0.005646273241901367,\n",
       " 0.005139285920908732,\n",
       " 0.004621294387557429,\n",
       " 0.004099686477141207,\n",
       " 0.003581901542746735,\n",
       " 0.0030753243510652783,\n",
       " 0.002587179757508995,\n",
       " 0.002124429662783478,\n",
       " 0.001693673720536748,\n",
       " 0.0013010552121907049,\n",
       " 0.000952173431355785,\n",
       " 0.0006520038273987172,\n",
       " 0.00040482704704769557,\n",
       " 0.00021416788602501846,\n",
       " 8.274502134542061e-05,\n",
       " 1.2432241160986734e-05,\n",
       " 4.231725051151436e-06,\n",
       " 5.825975578543918e-05,\n",
       " 0.00017374506628864417,\n",
       " 0.0003490398453239729,\n",
       " 0.0005816432448717546,\n",
       " 0.0008682370538775075,\n",
       " 0.0012047330295206216,\n",
       " 0.0015863312108930216,\n",
       " 0.00200758838335513,\n",
       " 0.0024624957170364947,\n",
       " 0.002944564472146305,\n",
       " 0.003446918548676292,\n",
       " 0.0039623925604752586,\n",
       " 0.004483634034896156,\n",
       " 0.005003208280365823,\n",
       " 0.005513704426184596,\n",
       " 0.006007841122153468,\n",
       " 0.006478570390468175,\n",
       " 0.006919178148703464,\n",
       " 0.007323379970150423,\n",
       " 0.0076854107157453555,\n",
       " 0.008000106759215586,\n",
       " 0.008262979632701839,\n",
       " 0.008470280042512268,\n",
       " 0.008619051341990813,\n",
       " 0.008707171698859262,\n",
       " 0.008733384355646745,\n",
       " 0.008697315551635443,\n",
       " 0.008599479850747382,\n",
       " 0.008441272799396993,\n",
       " 0.008224951019075943,\n",
       " 0.007953600017619245,\n",
       " 0.007631090178291888,\n",
       " 0.007262021554429565,\n",
       " 0.0068516582570494755,\n",
       " 0.006405853371259096,\n",
       " 0.005930965472388916,\n",
       " 0.005433767932581213,\n",
       " 0.004921352311387794,\n",
       " 0.0044010272083093716,\n",
       " 0.0038802140199418744,\n",
       " 0.003366341088520075,\n",
       " 0.0028667377516168324,\n",
       " 0.0023885298041408376,\n",
       " 0.0019385378636469497,\n",
       " 0.0015231800885537883,\n",
       " 0.0011483806367790228,\n",
       " 0.0008194851704216299,\n",
       " 0.0005411846116435415,\n",
       " 0.0003174482371743892,\n",
       " 0.00015146706572055635,\n",
       " 4.56083457017753e-05,\n",
       " 1.381792455346087e-06,\n",
       " 1.9418056438014197e-05,\n",
       " 9.945972952674076e-05,\n",
       " 0.0002403650176697747,\n",
       " 0.000440124027510147,\n",
       " 0.0006958874346534305,\n",
       " 0.0010040071246930626,\n",
       " 0.0013600882273109294,\n",
       " 0.0017590518012869927,\n",
       " 0.002195207276346922,\n",
       " 0.002662333618589141,\n",
       " 0.003153768061846418,\n",
       " 0.003662501139391816,\n",
       " 0.004181276660562561,\n",
       " 0.004702695206333596,\n",
       " 0.005219319667688849,\n",
       " 0.00572378132149709,\n",
       " 0.006208884930944181,\n",
       " 0.006667711371469265,\n",
       " 0.007093716318468779,\n",
       " 0.0074808235891827835,\n",
       " 0.007823511807432793,\n",
       " 0.008116893155129201,\n",
       " 0.00835678308730503,\n",
       " 0.008539760016346376,\n",
       " 0.008663214114146722,\n",
       " 0.008725384536112823,\n",
       " 0.008725384536113157,\n",
       " 0.008663214114147166,\n",
       " 0.008539760016346598,\n",
       " 0.008356783087304587,\n",
       " 0.008116893155128979,\n",
       " 0.00782351180743257,\n",
       " 0.00748082358918245,\n",
       " 0.007093716318468557,\n",
       " 0.006667711371469043,\n",
       " 0.0062088849309434035,\n",
       " 0.005723781321497312,\n",
       " 0.005219319667688627,\n",
       " 0.004702695206332708,\n",
       " 0.0041812766605616725,\n",
       " 0.00366250113939115,\n",
       " 0.003153768061846196,\n",
       " 0.002662333618588919,\n",
       " 0.002195207276346256,\n",
       " 0.0017590518012864376,\n",
       " 0.0013600882273099302,\n",
       " 0.0010040071246927296,\n",
       " 0.0006958874346528754,\n",
       " 0.00044012402750936985,\n",
       " 0.00024036501766910856,\n",
       " 9.94597295259636e-05,\n",
       " 1.9418056438347264e-05,\n",
       " 1.3817924549019978e-06,\n",
       " 4.560834570144223e-05,\n",
       " 0.00015146706571989021,\n",
       " 0.00031744823717427817,\n",
       " 0.0005411846116429864,\n",
       " 0.000819485170421963,\n",
       " 0.0011483806367781346,\n",
       " 0.0015231800885536773,\n",
       " 0.0019385378636466166,\n",
       " 0.0023885298041406156,\n",
       " 0.0028667377516172765,\n",
       " 0.003366341088520075,\n",
       " 0.0038802140199413193,\n",
       " 0.0044010272083092605,\n",
       " 0.00492135231138735,\n",
       " 0.005433767932581546,\n",
       " 0.005930965472389138,\n",
       " 0.006405853371259651,\n",
       " 0.006851658257050253,\n",
       " 0.007262021554430342,\n",
       " 0.007631090178291888,\n",
       " 0.00795360001761991,\n",
       " 0.008224951019075832,\n",
       " 0.008441272799397548,\n",
       " 0.008599479850747827,\n",
       " 0.008697315551635887,\n",
       " 0.008733384355646745,\n",
       " 0.008707171698860039,\n",
       " 0.00861905134199148,\n",
       " 0.008470280042513156,\n",
       " 0.00826297963270295,\n",
       " 0.008000106759216252,\n",
       " 0.007685410715746466,\n",
       " 0.007323379970150867,\n",
       " 0.0069191781487043524,\n",
       " 0.006478570390469396,\n",
       " 0.006007841122154023,\n",
       " 0.005513704426185373,\n",
       " 0.005003208280366711,\n",
       " 0.004483634034897044,\n",
       " 0.003962392560476036,\n",
       " 0.0034469185486772913,\n",
       " 0.002944564472147637,\n",
       " 0.002462495717037272,\n",
       " 0.002007588383355685,\n",
       " 0.001586331210894354,\n",
       " 0.0012047330295208436,\n",
       " 0.0008682370538780626,\n",
       " 0.0005816432448727538,\n",
       " 0.00034903984532463905,\n",
       " 0.0001737450662893103,\n",
       " 5.825975578632736e-05,\n",
       " 4.231725051928592e-06,\n",
       " 1.2432241162096958e-05,\n",
       " 8.274502134619777e-05,\n",
       " 0.00021416788602557357,\n",
       " 0.0004048270470482507,\n",
       " 0.0006520038273992723,\n",
       " 0.0009521734313572283,\n",
       " 0.001301055212191038,\n",
       " 0.0016936737205375252,\n",
       " 0.002124429662783589,\n",
       " 0.002587179757509439,\n",
       " 0.0030753243510653894,\n",
       " 0.003581901542746957,\n",
       " 0.004099686477141762,\n",
       " 0.004621294387558317,\n",
       " 0.005139285920908954,\n",
       " 0.005646273241901145,\n",
       " 0.006135025403251837,\n",
       " 0.006598571479111914,\n",
       " 0.007030299990774758,\n",
       " 0.007424053206620984,\n",
       " 0.007774214971345006,\n",
       " 0.008075790811781003,\n",
       " 0.008324479176814004,\n",
       " 0.00851673279526366,\n",
       " 0.008649809276594533,\n",
       " 0.008721810232701022,\n",
       " 0.008731708362720969,\n",
       " 0.008679362114509703,\n",
       " 0.008565517713565618,\n",
       " 0.008391798530379857,\n",
       " 0.008160681937743108,\n",
       " 0.007875463987955689,\n",
       " 0.007540212413618463,\n",
       " 0.00715970862218529,\n",
       " 0.006739379511440657,\n",
       " 0.006285220078243059,\n",
       " 0.005803707924179502,\n",
       " 0.005301710877344545,\n",
       " 0.004786389047642947,\n",
       " 0.004265092712413487,\n",
       " 0.003745257488642295,\n",
       " 0.0032342982867384906,\n",
       " 0.002739503558250589,\n",
       " 0.0022679313456972494,\n",
       " 0.0018263086170196008,\n",
       " 0.0014209353203221697,\n",
       " 0.0010575945272628395,\n",
       " 0.0007414699466451458,\n",
       " 0.0004770719846551863,\n",
       " 0.00026817340633000786,\n",
       " 0.00011775551591330924,\n",
       " 2.7965623772607806e-05,\n",
       " 8.640659010517027e-08,\n",
       " 3.451759794781406e-05,\n",
       " 0.00013077027057917245,\n",
       " 0.00028747379201743417,\n",
       " 0.0005023953546157145,\n",
       " 0.0007724718016171028,\n",
       " 0.0010938532955884206,\n",
       " 0.0014619582066558445,\n",
       " 0.0018715384379741629,\n",
       " 0.0023167542570067257,\n",
       " 0.0027912575656375838,\n",
       " 0.0032882824217770334,\n",
       " 0.003800741521703621,\n",
       " 0.004321327267364783,\n",
       " 0.004842615977460496,\n",
       " 0.005357173756288969,\n",
       " 0.005857662510668771,\n",
       " 0.0063369446031131815,\n",
       " 0.006788184648878204,\n",
       " 0.007204947005185369,\n",
       " 0.007581287562345995,\n",
       " 0.007911838527733694,\n",
       " 0.008191884993453913,\n",
       " 0.008417432195697683,\n",
       " 0.008585262506481284,\n",
       " 0.008692981344854411,\n",
       " 0.00873905135266062,\n",
       " 0.008722814347245311,\n",
       " 0.008644500737783334,\n",
       " 0.008505226270659416,\n",
       " 0.008306976149990652,\n",
       " 0.008052576759394858,\n",
       " 0.007745655387911499,\n",
       " 0.007390588534016862,\n",
       " 0.006992439524550975,\n",
       " 0.006556886337742096,\n",
       " 0.006090140659194887,\n",
       " 0.005598859324734473,\n",
       " 0.005090049412576625,\n",
       " 0.00457096833785986,\n",
       " 0.004049020373862011,\n",
       " 0.0035316510752096963,\n",
       " 0.003026241108329497,\n",
       " 0.0025400010028788778,\n",
       " 0.002079868324806,\n",
       " 0.0016524087371944107,\n",
       " 0.0012637223596568825,\n",
       " 0.0009193567615554121,\n",
       " 0.0006242278297662329,\n",
       " 0.0003825496394861405,\n",
       " 0.00019777432826673103,\n",
       " 7.254283086843838e-05,\n",
       " 8.64717773696455e-06,\n",
       " 7.00489506022528e-06,\n",
       " 6.76458718805728e-05,\n",
       " 0.00018971188200600508,\n",
       " 0.00037146876809102114,\n",
       " 0.0006103311147389601,\n",
       " 0.0009028990594569519,\n",
       " 0.0012450067172373736,\n",
       " 0.0016317815290047832,\n",
       " 0.002057713688399021,\n",
       " 0.002516734657692643,\n",
       " 0.00300230365404075,\n",
       " 0.00350750087361118,\n",
       " 0.004025126125061673,\n",
       " 0.0045478014666606725,\n",
       " 0.005068076384252329,\n",
       " 0.005578534010963754,\n",
       " 0.006071896874663363,\n",
       " 0.006541130665828732,\n",
       " 0.006979544546647176,\n",
       " 0.007380886571386247,\n",
       " 0.007739432857688966,\n",
       " 0.008050069237438229,\n",
       " 0.008308364222961884,\n",
       " 0.00851063224805082,\n",
       " 0.008653986281799808,\n",
       " 0.008736379064703148,\n",
       " 0.008756632378500107,\n",
       " 0.008714453931790267,\n",
       " 0.008610441619860132,\n",
       " 0.00844607509708628,\n",
       " 0.008223694781040014,\n",
       " 0.007946468586533362,\n",
       " 0.007618346862676928,\n",
       " 0.007244006174145334,\n",
       " 0.006828782726836957,\n",
       " 0.00637859638569549,\n",
       " 0.005899866366576356,\n",
       " 0.005399419802714411,\n",
       " 0.004884394487952637,\n",
       " 0.004362137181942116,\n",
       " 0.0038400989258341456,\n",
       " 0.0033257288596815204,\n",
       " 0.002826368054227313,\n",
       " 0.0023491448696396633,\n",
       " 0.001900873332145725,\n",
       " 0.0014879559766243222,\n",
       " 0.0011162925397337764,\n",
       " 0.0007911958049147128,\n",
       " 0.000517315798875706,\n",
       " 0.00029857342029893097,\n",
       " 0.00013810444729045468,\n",
       " 3.821472234588619e-05,\n",
       " 3.4715451791011986e-07,\n",
       " 2.506101023425078e-05,\n",
       " 0.0001120237892687781,\n",
       " 0.00026001580319900963,\n",
       " 0.00046694739281183395,\n",
       " 0.0007298885409545708,\n",
       " 0.0010451104608256712,\n",
       " 0.0014081385691570025,\n",
       " 0.001813816091565612,\n",
       " 0.002256377395950304,\n",
       " 0.0027295300111876974,\n",
       " 0.0032265441646404103,\n",
       " 0.003740348564835627,\n",
       " 0.0042636310666162025,\n",
       " 0.004788942786416617,\n",
       " 0.005308804186035965,\n",
       " 0.005815811615074384,\n",
       " 0.006302742795485372,\n",
       " 0.006762659746545996,\n",
       " 0.007189007684774373,\n",
       " 0.007575708490402122,\n",
       " 0.007917247409106265,\n",
       " 0.008208751753791876,\n",
       " 0.008446060484826212,\n",
       " 0.008625783676742937,\n",
       " 0.008745351023147663,\n",
       " 0.008803048687357151,\n",
       " 0.00879804397195949,\n",
       " 0.008730397453656447,\n",
       " 0.008601062407959326,\n",
       " 0.008411871529032222,\n",
       " 0.00816551113065267,\n",
       " 0.007865483192296852,\n",
       " 0.007516055787254894,\n",
       " 0.007122202594953886,\n",
       " 0.006689532354983152,\n",
       " 0.006224209263469893,\n",
       " 0.005732865441395951,\n",
       " 0.0052225067173508055,\n",
       " 0.004700413062506348,\n",
       " 0.004174035091844663,\n",
       " 0.0036508881019050587,\n",
       " 0.0031384451506055733,\n",
       " 0.0026440306986610373,\n",
       " 0.0021747163244671963,\n",
       " 0.0017372199952255807,\n",
       " 0.001337810326907496,\n",
       " 0.0009822171951474612,\n",
       " 0.000675549969294531,\n",
       " 0.00042222453391926873,\n",
       " 0.00022590013757894933,\n",
       " 8.942696941538486e-05,\n",
       " 1.4805212084190167e-05,\n",
       " 3.156156806904953e-06,\n",
       " 5.470579532185216e-05,\n",
       " 0.0001687811265194128,\n",
       " 0.0003438192352200886,\n",
       " 0.0005773890193162545,\n",
       " 0.0008662252620494915,\n",
       " 0.0012062745709409128,\n",
       " 0.0015927525364483053,\n",
       " 0.0020202113040793668,\n",
       " 0.002482616605772092,\n",
       " 0.0029734331618835874,\n",
       " 0.003485717246118014,\n",
       " 0.0040122151037425,\n",
       " 0.004545465830019357,\n",
       " 0.005077907252073577,\n",
       " 0.005601983314301062,\n",
       " 0.0061102514455733115,\n",
       " 0.006595488386138437,\n",
       " 0.007050792973349651,\n",
       " 0.007469684427805934,\n",
       " 0.007846194744591584,\n",
       " 0.008174953877182922,\n",
       " 0.00845126650301009,\n",
       " 0.008671179278314178,\n",
       " 0.008831537623968488,\n",
       " 0.008930031231652702,\n",
       " 0.008965227638904394,\n",
       " 0.008936593390009628,\n",
       " 0.008844502474986249,\n",
       " 0.008690231918616398,\n",
       " 0.008475944573028027,\n",
       " 0.008204659348211463,\n",
       " 0.007880209292445817,\n",
       " 0.007507188106473994,\n",
       " 0.007090885838926697,\n",
       " 0.006637214663692825,\n",
       " 0.006152625780440069,\n",
       " 0.005644018605412859,\n",
       " 0.005118643529090416,\n",
       " 0.004583999608858136,\n",
       " 0.004047728637108894,\n",
       " 0.0035175070772297534,\n",
       " 0.003000937390961411,\n",
       " 0.0025054402902067174,\n",
       " 0.0020381494343794104,\n",
       " 0.0016058100609982473,\n",
       " 0.001214682982892068,\n",
       " 0.0008704553108775936,\n",
       " 0.0005781591671105701,\n",
       " 0.00034209954284170063,\n",
       " 0.00016579232657576437,\n",
       " 5.1913386430735287e-05,\n",
       " 2.259435801788001e-06,\n",
       " 1.772124646592932e-05,\n",
       " 9.826960025427489e-05,\n",
       " 0.00024295419188358203,\n",
       " 0.00044991551389550466,\n",
       " 0.000716409572488419,\n",
       " 0.0010388451029078594,\n",
       " 0.0014128327774396432,\n",
       " 0.0018332457304846006,\n",
       " 0.0022942905659203428,\n",
       " 0.0027895878643373617,\n",
       " 0.0033122610737001956,\n",
       " 0.0038550325485270376,\n",
       " 0.004410325401358772,\n",
       " 0.004970369747594239,\n",
       " 0.005527311861792894,\n",
       " 0.006073324721240558,\n",
       " 0.006600718391443605,\n",
       " 0.007102048708661046,\n",
       " 0.007570222736499432,\n",
       " 0.007998599516770288,\n",
       " 0.008381084698564578,\n",
       " 0.008712217713030768,\n",
       " 0.00898725026342917,\n",
       " 0.009202215019303295,\n",
       " 0.009353983538395116,\n",
       " 0.009440312588358646,\n",
       " 0.009459878200365979,\n",
       " 0.009412296956114119,\n",
       " 0.009298134186204288,\n",
       " 0.009118898938926145,\n",
       " 0.008877025761661717,\n",
       " 0.008575843519854853,\n",
       " 0.008219531658298806,\n",
       " 0.007813064483880194,\n",
       " 0.007362144215449895,\n",
       " 0.006873123702932915,\n",
       " 0.006352919861936757,\n",
       " 0.005808919000018564,\n",
       " 0.005248875324620705,\n",
       " 0.004680804018932561,\n",
       " 0.004112870349245457,\n",
       " 0.003553276324706478,\n",
       " 0.0030101464668973454,\n",
       " 0.002491414261936442,\n",
       " 0.0020047108615806053,\n",
       " 0.001557257572127213,\n",
       " 0.0011557636212622402,\n",
       " 0.0008063306239244339,\n",
       " 0.0005143650797435617,\n",
       " 0.0002845001278847237,\n",
       " 0.00012052766157988337,\n",
       " 2.5341765968911467e-05,\n",
       " 8.942909741627147e-07,\n",
       " 4.81632078388472e-05,\n",
       " 0.00016713422588832128,\n",
       " 0.00035679596731719165,\n",
       " 0.0006151488148276041,\n",
       " 0.0009392273621477987,\n",
       " 0.0013251362133698263,\n",
       " 0.0017680986961331469,\n",
       " 0.002262517878335535,\n",
       " 0.0028020491106912626,\n",
       " 0.0033796831602298516,\n",
       " 0.003987838854938697,\n",
       " 0.004618464029015001,\n",
       " 0.005263143443481,\n",
       " 0.005913212259611944,\n",
       " 0.006559873564156438,\n",
       " 0.007194318386609222,\n",
       " 0.007807846610719871,\n",
       " 0.008391987165362935,\n",
       " 0.008938615884187429,\n",
       " 0.009440069448978683,\n",
       " 0.009889253878088367,\n",
       " 0.010279746087974884,\n",
       " 0.010605887142034254,\n",
       " 0.010862865905264085,\n",
       " 0.01104679194460001,\n",
       " 0.01115475665137533,\n",
       " 0.011184881712490324,\n",
       " 0.011136354218612365,\n",
       " 0.011009447868925326,\n",
       " 0.010805529910441147,\n",
       " 0.010527053633301198,\n",
       " 0.010177536429564649,\n",
       " 0.009761523609212674,\n",
       " 0.009284538351197025,\n",
       " 0.008753018346936425,\n",
       " 0.008174239866427957,\n",
       " 0.007556230140948195,\n",
       " 0.00690766910905638,\n",
       " 0.006237781712393309,\n",
       " 0.0055562220528689865,\n",
       " 0.004872950831628087,\n",
       " 0.004198107581441901,\n",
       " 0.003541879276690585,\n",
       " 0.00291436695805658,\n",
       " 0.0023254520418236613,\n",
       " 0.0017846639958782884,\n",
       " 0.0013010510560558242,\n",
       " 0.0008830556275173373,\n",
       " 0.0005383959667734084,\n",
       " 0.0002739556714603797,\n",
       " 9.568241790613996e-05,\n",
       " 8.497282014574559e-06,\n",
       " 1.6215858354540202e-05,\n",
       " 0.0001214822571257157,\n",
       " 0.00032571691049054774,\n",
       " 0.000629078960510232,\n",
       " 0.0010304438325338117,\n",
       " 0.0015273964223732062,\n",
       " 0.0021162401451247925,\n",
       " 0.0027920219102204324,\n",
       " 0.0035485729033564173,\n",
       " 0.004378564873574131,\n",
       " 0.005273581445047637,\n",
       " 0.00622420380018418,\n",
       " 0.007220109915395678,\n",
       " 0.008250186375287405,\n",
       " 0.009302651646733273,\n",
       " 0.010365189562980825,\n",
       " 0.011425091650983932,\n",
       " 0.012469406833819696,\n",
       " 0.013485096955367037,\n",
       " 0.014459196507253691,\n",
       " 0.015378974889029617,\n",
       " 0.01623209950201865,\n",
       " 0.017006797965513187,\n",
       " 0.01769201775089846,\n",
       " 0.018277581554664635,\n",
       " 0.018754336774632008,\n",
       " 0.019114297514446266,\n",
       " 0.01935077761860715,\n",
       " 0.019458513333032723,\n",
       " 0.019433774293144523,\n",
       " 0.019274461661466513,\n",
       " 0.018980192368253546,\n",
       " 0.018552368550112663,\n",
       " 0.017994231431397,\n",
       " 0.017310899049518214,\n",
       " 0.01650938738653518,\n",
       " 0.01559861463364176,\n",
       " 0.014589388480679144,\n",
       " 0.01349437648778773,\n",
       " 0.01232805975903073,\n",
       " 0.01110667029661816,\n",
       " 0.009848112567575562,\n",
       " 0.008571869960889544,\n",
       " 0.007298896950825862,\n",
       " 0.006051497910063652,\n",
       " 0.0048531936332678605,\n",
       " 0.0037285767367788436,\n",
       " 0.0027031571923419317,\n",
       " 0.0018031993315189565,\n",
       " 0.001055551722072945,\n",
       " 0.0004874713678022502,\n",
       " 0.0001264437188173151,\n",
       " 0.0]"
      ]
     },
     "execution_count": 98,
     "metadata": {},
     "output_type": "execute_result"
    }
   ],
   "source": [
    "variance"
   ]
  },
  {
   "cell_type": "markdown",
   "id": "7ef02260",
   "metadata": {},
   "source": [
    "# MSE versus training data points"
   ]
  },
  {
   "cell_type": "code",
   "execution_count": 79,
   "id": "d3beba9c",
   "metadata": {},
   "outputs": [],
   "source": [
    "sigma = 0.05\n",
    "xtest, ytest = sindata(1000, snoise=0.1, random=False)\n",
    "MSE = []\n",
    "for length in range(5, 20):\n",
    "    mse = 0\n",
    "    C = my_rbf_kernel(xtrain[:length].T, xtrain[:length].T, sigma)\n",
    "    mean = []\n",
    "    variance = []\n",
    "    \n",
    "    for index in range(1000):\n",
    "        k = cal_k(xtrain[:length], xtest, index, sigma)\n",
    "        t = ytrain[:length]\n",
    "        mean.append(float(cal_mean(k, C, t)[0]))\n",
    "    c_matrix = cal_c_matrix(xtest, sigma)\n",
    "    k_matrix = cal_k_matrix(xtrain[:length], xtest, sigma)\n",
    "    covariance = c_matrix - k_matrix.T @ np.linalg.inv(C) @ k_matrix\n",
    "    mse = ((ytest - np.array(mean).reshape(-1, 1)) **2).mean()\n",
    "    #samples = np.random.multivariate_normal(mean, covariance, 10)\n",
    "    #for i in range(samples.shape[0]):\n",
    "    #    mse += ((samples[i, :] - ytest)**2).mean()\n",
    "    #mse = mse / samples.shape[0]\n",
    "    MSE.append(mse)"
   ]
  },
  {
   "cell_type": "code",
   "execution_count": 80,
   "id": "1e9f0dda",
   "metadata": {},
   "outputs": [
    {
     "data": {
      "text/plain": [
       "[0.3520656608175486,\n",
       " 0.35430282881252995,\n",
       " 0.34606515681077377,\n",
       " 0.3527222690906797,\n",
       " 0.34934525843336445,\n",
       " 0.26160800146967245,\n",
       " 0.22757722826384558,\n",
       " 0.19861056695191592,\n",
       " 0.2277185288217688,\n",
       " 0.10025845431766343,\n",
       " 0.08913339325190146,\n",
       " 0.08123558318309408,\n",
       " 0.08594205708737891,\n",
       " 0.03754260834603763,\n",
       " 0.021583336313049258]"
      ]
     },
     "execution_count": 80,
     "metadata": {},
     "output_type": "execute_result"
    }
   ],
   "source": [
    "MSE"
   ]
  },
  {
   "cell_type": "code",
   "execution_count": 81,
   "id": "d12cd75a",
   "metadata": {
    "scrolled": true
   },
   "outputs": [
    {
     "data": {
      "text/plain": [
       "<AxesSubplot:>"
      ]
     },
     "execution_count": 81,
     "metadata": {},
     "output_type": "execute_result"
    },
    {
     "data": {
      "image/png": "[encoded data removed]",
      "text/plain": [
       "<Figure size 1440x360 with 1 Axes>"
      ]
     },
     "metadata": {
      "needs_background": "light"
     },
     "output_type": "display_data"
    }
   ],
   "source": [
    "fig, ax = plt.subplots(figsize = (20, 5))\n",
    "sns.scatterplot(x = [i for i in range(5, 20)], y = MSE)"
   ]
  },
  {
   "cell_type": "markdown",
   "id": "f977e439",
   "metadata": {},
   "source": [
    "# MSE versus gamma"
   ]
  },
  {
   "cell_type": "code",
   "execution_count": 82,
   "id": "f550eb84",
   "metadata": {},
   "outputs": [],
   "source": [
    "sigma_list = np.linspace(0.03, 0.1, 10)\n",
    "xtest, ytest = sindata(1000, snoise=0.1, random=False)\n",
    "MSE = []\n",
    "#mse = 0\n",
    "for sigma in sigma_list:\n",
    "    mse = 0\n",
    "    C = my_rbf_kernel(xtrain.T, xtrain.T, sigma)\n",
    "    mean = []\n",
    "    variance = []\n",
    "    for index in range(1000):\n",
    "        k = cal_k(xtrain, xtest, index, sigma)\n",
    "        t = ytrain\n",
    "        mean.append(float(cal_mean(k, C, t)[0]))\n",
    "    c_matrix = cal_c_matrix(xtest, sigma)\n",
    "    k_matrix = cal_k_matrix(xtrain, xtest, sigma)\n",
    "    covariance = c_matrix - k_matrix.T @ np.linalg.pinv(C) @ k_matrix\n",
    "    mse = ((ytest - np.array(mean).reshape(-1, 1)) **2).mean()\n",
    "    #samples = np.random.multivariate_normal(mean, covariance, 10)\n",
    "    #for i in range(samples.shape[0]):\n",
    "    #    mse += ((samples[i, :] - ytest)**2).mean()\n",
    "    #mse = mse / samples.shape[0]\n",
    "    MSE.append(mse)"
   ]
  },
  {
   "cell_type": "code",
   "execution_count": 83,
   "id": "dfbe6a6a",
   "metadata": {},
   "outputs": [
    {
     "data": {
      "text/plain": [
       "(1000,)"
      ]
     },
     "execution_count": 83,
     "metadata": {},
     "output_type": "execute_result"
    }
   ],
   "source": [
    "np.array(mean).shape"
   ]
  },
  {
   "cell_type": "code",
   "execution_count": 84,
   "id": "40a980e0",
   "metadata": {
    "scrolled": true
   },
   "outputs": [
    {
     "data": {
      "text/plain": [
       "<AxesSubplot:>"
      ]
     },
     "execution_count": 84,
     "metadata": {},
     "output_type": "execute_result"
    },
    {
     "data": {
      "image/png": "[encoded data removed]",
      "text/plain": [
       "<Figure size 1440x360 with 1 Axes>"
      ]
     },
     "metadata": {
      "needs_background": "light"
     },
     "output_type": "display_data"
    }
   ],
   "source": [
    "fig, ax = plt.subplots(figsize = (20, 5))\n",
    "sns.scatterplot(x = sigma_list, y = MSE)"
   ]
  },
  {
   "cell_type": "code",
   "execution_count": 85,
   "id": "dd3c405c",
   "metadata": {
    "scrolled": true
   },
   "outputs": [
    {
     "data": {
      "text/plain": [
       "[0.021543836135291337,\n",
       " 0.019367736689643863,\n",
       " 0.01893703106768097,\n",
       " 0.018982789773520678,\n",
       " 0.019123404631823427,\n",
       " 0.019444924792001453,\n",
       " 0.020050032328269168,\n",
       " 0.02088811742655674,\n",
       " 0.02174644597955468,\n",
       " 0.022450716325070744]"
      ]
     },
     "execution_count": 85,
     "metadata": {},
     "output_type": "execute_result"
    }
   ],
   "source": [
    "MSE"
   ]
  },
  {
   "cell_type": "markdown",
   "id": "9e8a9ba7",
   "metadata": {},
   "source": [
    "# MSE when test data is far away from training data"
   ]
  },
  {
   "cell_type": "code",
   "execution_count": 100,
   "id": "f5d8ca6e",
   "metadata": {},
   "outputs": [],
   "source": [
    "xtest = np.linspace(1, 2, 1000).reshape(-1, 1)\n",
    "ytest = np.sin(2*np.pi*xtest*3 + 0.6*np.sin(2*np.pi*xtest*3*1.5 )) + np.random.randn(1000,1)*0.1\n",
    "sigma = 0.01\n",
    "C = my_rbf_kernel(xtrain.T, xtrain.T, sigma)\n",
    "mean = []\n",
    "variance = []\n",
    "for index in range(1000):\n",
    "    k = cal_k(xtrain, xtest, index, sigma)\n",
    "    t = ytrain\n",
    "    mean.append(float(cal_mean(k, C, t)[0]))\n",
    "mse = ((ytest - np.array(mean).reshape(-1, 1)) **2).mean()"
   ]
  },
  {
   "cell_type": "code",
   "execution_count": 101,
   "id": "4b740e7e",
   "metadata": {},
   "outputs": [
    {
     "data": {
      "text/plain": [
       "0.5177202802760219"
      ]
     },
     "execution_count": 101,
     "metadata": {},
     "output_type": "execute_result"
    }
   ],
   "source": [
    "mse"
   ]
  },
  {
   "cell_type": "markdown",
   "id": "e2dd3a4a",
   "metadata": {},
   "source": [
    "### Task\n",
    "- How do you expect the MSE between the target function and the mean estimated function to vary with respect to:\n",
    "    1. the kernel scaling parameter,\n",
    "    2. the number of training data points ?\n",
    "- Plot the MSE versus the scaling parameter and the MSE versus the number of training data points.\n",
    "- Discuss the graphs\n",
    "- How does the model behave when the test data are too far from the training data. For instance, evaluate the GP model with test data > 1."
   ]
  },
  {
   "cell_type": "markdown",
   "id": "b16c9747",
   "metadata": {},
   "source": [
    "### Answer\n",
    "1. When gamma increases, loss will firstly decrease then increase. As gamma increases, the kernel will fall off more and more.\n",
    "2. As the training data points increases, the model should perform better, which indicates that its MSE should decrease. As when we get more training data, we could say that we have more prior knowledge about the distribution, which would help us train the model in a better way.\n",
    "3. The model becomes worse when test data are too far from the training data as the mse of the target function and the mean estimated function becomes larger."
   ]
  },
  {
   "cell_type": "markdown",
   "id": "6894e5a6",
   "metadata": {},
   "source": [
    "## Part 5 - Neural networks (Back-prop)\n",
    "\n",
    "In this part we train a 1 hidden layer neural network on the artificial two moons dataset.\n",
    "The particularity is that we manually implement the update rule of a backpropagation algorithm.\n",
    "The goal is to give an insight on how machine learning toolboxes work under the hood, and to understand why we need these toolboxes to build complex training pipelines.\n",
    "Here we do not use such toolboxes, but rather implement a back propagation algorithm using the numpy library.\n",
    "\n",
    "The code was found here:\n",
    "- Walkthrough backpropagation algorithm: https://cs231n.github.io/optimization-2/"
   ]
  },
  {
   "cell_type": "code",
   "execution_count": 102,
   "id": "6240fed0",
   "metadata": {},
   "outputs": [
    {
     "data": {
      "image/png": "[encoded data removed]",
      "text/plain": [
       "<Figure size 432x288 with 1 Axes>"
      ]
     },
     "metadata": {
      "needs_background": "light"
     },
     "output_type": "display_data"
    }
   ],
   "source": [
    "x,y = make_moons(n_samples=1000, noise=0.05)\n",
    "y = np.hstack([1-y[:,None],y[:,None]])\n",
    "\n",
    "colors = 'rb'\n",
    "c_ = [colors[yy] for yy in y[:,0]]\n",
    "\n",
    "fig,ax=plt.subplots()\n",
    "ax.scatter(x[:,0], x[:,1], c=c_);"
   ]
  },
  {
   "cell_type": "code",
   "execution_count": 103,
   "id": "fca82982",
   "metadata": {},
   "outputs": [
    {
     "data": {
      "text/plain": [
       "(1000, 2)"
      ]
     },
     "execution_count": 103,
     "metadata": {},
     "output_type": "execute_result"
    }
   ],
   "source": [
    "x.shape"
   ]
  },
  {
   "cell_type": "code",
   "execution_count": 104,
   "id": "ff8cd800",
   "metadata": {},
   "outputs": [
    {
     "data": {
      "text/plain": [
       "(1000, 2)"
      ]
     },
     "execution_count": 104,
     "metadata": {},
     "output_type": "execute_result"
    }
   ],
   "source": [
    "y.shape"
   ]
  },
  {
   "cell_type": "code",
   "execution_count": 105,
   "id": "d52b5491",
   "metadata": {},
   "outputs": [
    {
     "name": "stdout",
     "output_type": "stream",
     "text": [
      "[(2, 2), (2, 2)]\n"
     ]
    }
   ],
   "source": [
    "# Network definitions\n",
    "\n",
    "d = 2 # Input space dimension\n",
    "n1 = 2 # First layer hidden size\n",
    "q = 2  # Target space dimension\n",
    "\n",
    "# Activation function\n",
    "def relu(x):\n",
    "    return np.maximum(0,x)\n",
    "\n",
    "# learning rate\n",
    "\n",
    "lr = 0.5\n",
    "\n",
    "# Initialize NN\n",
    "hidden_sizes = [(d,n1), (n1,q)]\n",
    "print(hidden_sizes)"
   ]
  },
  {
   "cell_type": "markdown",
   "id": "5692475e",
   "metadata": {},
   "source": [
    "### Task\n",
    "\n",
    "- Using the skeleton of code below, write the batch gradient descent algorithm for a 1-hidden layer network."
   ]
  },
  {
   "cell_type": "code",
   "execution_count": 106,
   "id": "a39d2934",
   "metadata": {},
   "outputs": [
    {
     "data": {
      "text/plain": [
       "(1000, 2)"
      ]
     },
     "execution_count": 106,
     "metadata": {},
     "output_type": "execute_result"
    }
   ],
   "source": [
    "y.shape"
   ]
  },
  {
   "cell_type": "code",
   "execution_count": 107,
   "id": "1dbd4427",
   "metadata": {},
   "outputs": [],
   "source": [
    "tmp = np.random.randn(3, 3)"
   ]
  },
  {
   "cell_type": "code",
   "execution_count": 108,
   "id": "3bb060e6",
   "metadata": {},
   "outputs": [
    {
     "data": {
      "text/plain": [
       "array([[ 0.23551757,  2.72093264, -0.33665008],\n",
       "       [-1.28256574,  0.5718237 ,  0.04085797],\n",
       "       [ 0.5683923 , -0.04870675, -0.33175664]])"
      ]
     },
     "execution_count": 108,
     "metadata": {},
     "output_type": "execute_result"
    }
   ],
   "source": [
    "tmp"
   ]
  },
  {
   "cell_type": "code",
   "execution_count": 109,
   "id": "a9865a0d",
   "metadata": {},
   "outputs": [],
   "source": [
    "tmp[tmp > 0] = 1"
   ]
  },
  {
   "cell_type": "code",
   "execution_count": 110,
   "id": "6518d1bd",
   "metadata": {},
   "outputs": [
    {
     "data": {
      "text/plain": [
       "array([[ 1.        ,  1.        , -0.33665008],\n",
       "       [-1.28256574,  1.        ,  1.        ],\n",
       "       [ 1.        , -0.04870675, -0.33175664]])"
      ]
     },
     "execution_count": 110,
     "metadata": {},
     "output_type": "execute_result"
    }
   ],
   "source": [
    "tmp"
   ]
  },
  {
   "cell_type": "code",
   "execution_count": 111,
   "id": "0769da77",
   "metadata": {},
   "outputs": [
    {
     "data": {
      "image/png": "[encoded data removed]",
      "text/plain": [
       "<Figure size 432x288 with 1 Axes>"
      ]
     },
     "metadata": {
      "needs_background": "light"
     },
     "output_type": "display_data"
    }
   ],
   "source": [
    "# Weight initialization\n",
    "\n",
    "#w1 = np.random.randn(hidden_sizes[0][1],hidden_sizes[0][0])\n",
    "#w2 = np.random.randn(hidden_sizes[1][1],hidden_sizes[1][0])\n",
    "np.random.seed(10)\n",
    "\n",
    "w1 = np.random.randn(hidden_sizes[0][0], hidden_sizes[0][1])\n",
    "w2 = np.random.randn(hidden_sizes[1][0], hidden_sizes[1][1])\n",
    "\n",
    "# Training loop\n",
    "nepochs = 200\n",
    "\n",
    "\n",
    "# We will save the loss at every epoch\n",
    "loss = np.zeros(nepochs)\n",
    "\n",
    "for ix in range(nepochs):\n",
    "    indicator = np.zeros((x.shape[0], w1.shape[1]))\n",
    "    \n",
    "    n_samples = x.shape[0]\n",
    "    # Forward pass: compute y_pred    \n",
    "    #\n",
    "    ## Task 1: Write the forward pass\n",
    "    # Solution\n",
    "    \n",
    "    #y_layer_1 = relu(np.dot(x, w1.T))\n",
    "    #y_pred = np.dot(y_layer_1, w2.T)\n",
    "    y_layer_1 = relu(np.dot(x, w1))\n",
    "    y_pred = np.dot(y_layer_1, w2)\n",
    "    \n",
    "    # Compute loss\n",
    "    loss[ix] = (0.5) * np.square(y_pred - y).mean()\n",
    "\n",
    "    # Gradient of loss wrt network's output\n",
    "    d3 = y_pred - y\n",
    "    \n",
    "    ## Task 2: Implement\n",
    "    #grad2 = 1/n_samples * (y_layer_1.T @ y_layer_1 @ w2.T - y_layer_1.T @ y)\n",
    "    grad2 = 1/n_samples * (y_layer_1.T @ y_layer_1 @ w2 - y_layer_1.T @ y)\n",
    "    \n",
    "    indicator[y_layer_1 > 0] = 1\n",
    "    \n",
    "    grad1 = 1/n_samples * x.T @ (np.multiply(indicator, ((y_pred - y) @ w2.T)))\n",
    "    \n",
    "    # Update weights\n",
    "    #\n",
    "    ## Task 3\n",
    "    w1 = w1 - 0.1 * grad1\n",
    "    w2 = w2 - 0.1 * grad2\n",
    "\n",
    "# Plot the loss\n",
    "fig,ax=plt.subplots()\n",
    "ax.plot(loss,'k',lw=3)\n",
    "ax.set_xlabel(\"Number of epochs\")\n",
    "ax.set_ylabel(\"Loss\");"
   ]
  },
  {
   "cell_type": "markdown",
   "id": "e57e84ee",
   "metadata": {},
   "source": [
    "### Task\n",
    "\n",
    "- Evaluate the performances of the algorithm on the classification dataset.\n",
    "- Compare the performances of the neural network with the algorithms implemented in the previous parts (except the GP)"
   ]
  },
  {
   "cell_type": "code",
   "execution_count": 112,
   "id": "cef34301",
   "metadata": {
    "scrolled": true
   },
   "outputs": [
    {
     "name": "stdout",
     "output_type": "stream",
     "text": [
      "0.10271323958246475\n",
      "0.865\n"
     ]
    }
   ],
   "source": [
    "y_layer_1 = relu(np.dot(x, w1))\n",
    "y_pred = np.dot(y_layer_1, w2)\n",
    "loss_final = (0.5) * np.square(y_pred - y).mean()\n",
    "acc = sum(np.argmax(y_pred, axis = 1) == np.argmax(y, axis = 1))/1000\n",
    "print(loss_final)\n",
    "print(acc)"
   ]
  },
  {
   "cell_type": "code",
   "execution_count": 113,
   "id": "f9f9c1b4",
   "metadata": {
    "scrolled": true
   },
   "outputs": [
    {
     "name": "stdout",
     "output_type": "stream",
     "text": [
      "0.847\n"
     ]
    }
   ],
   "source": [
    "#Linear Method\n",
    "Astar = get_mmse(y.T, x.T)\n",
    "Yhat = Astar @ x.T\n",
    "acc = sum(np.argmax(Yhat.T, axis = 1) == np.argmax(y, axis = 1))/1000\n",
    "print(acc)"
   ]
  },
  {
   "cell_type": "code",
   "execution_count": 114,
   "id": "5938b702",
   "metadata": {},
   "outputs": [
    {
     "name": "stdout",
     "output_type": "stream",
     "text": [
      "0.998\n"
     ]
    }
   ],
   "source": [
    "kx = my_rbf_kernel(x.T, x.T)\n",
    "linear_G = my_rbf_kernel(x.T, x.T) #To find Gram Matrix\n",
    "\n",
    "a = np.linalg.pinv(linear_G + 3 * np.eye(x.shape[0])) @ y\n",
    "pred = np.dot(kx.T, a)\n",
    "acc = sum(np.argmax(pred, axis = 1) == np.argmax(y, axis = 1))/1000\n",
    "print(acc)"
   ]
  },
  {
   "cell_type": "markdown",
   "id": "f0b7999a",
   "metadata": {},
   "source": [
    "# Answer\n",
    "1. accuracy this neural network architecture could achieve is 0.868\n",
    "2. Linear algorithm could achieve is 0.847, rbf kernel could achieve is 0.998"
   ]
  },
  {
   "cell_type": "markdown",
   "id": "1b1cf2c9",
   "metadata": {},
   "source": [
    "## Part 5 - Neural networks (CNN architecture)\n",
    "# Supervised learning in Pytorch\n",
    "Supervised learning is a type of machine learning problem a target quantity has to be infered from a set of input samples.\n",
    "Classical inference tasks are regression, where a continuous target quantities has to be infered, and classification, where a discrete target is to be infered.\n",
    "In this notebook we consider an image classification task.\n",
    "Classically, image classification tasks are performed with careful filter engineering and feature extraction methods.\n",
    "The features were then classified using classical classification algorithms, such as logistic regression or Support Vector Machine.\n",
    "The classification algorithm was then tested against metrics such as mean squared error, accuracy, f1-score, ...\n",
    "\n",
    "In 1990, the model `Lenet` was proposed.\n",
    "`LeNet` directly maps input images to their label without manual filter design and is learnable end-to-end.\n",
    "This enables the feature extraction pipeline and the classification algorithm to be trained jointly, without requiring engineering choices.\n",
    "\n",
    "This model uses convolutional neural networks (CNN), a type of hidden layer which can be used to extract features on images regardless of their spatial location.\n",
    "The features are extracted gradually with several repetitions of convolutional layers, non-linear activations and  pooling layers.\n",
    "After the features have been extracted, the model uses fully connected layers to perform the final mapping to the image label.\n",
    "\n",
    "The architectire is depicted below:\n",
    "![Architecture](lenet.png)\n",
    "\n",
    "Convolutional layers, pooling layers, activation functions and fully connected layers are all functions that are differentiable with respect to (wrt) their parameters.\n",
    "The model is constructed so that the output can be compared to the expected output using loss functions which are differentiable wrt their input.\n",
    "This allows `LeNet` to be trained using backpropagation, a gradient descent algorithm which uses the chain rule to calculate the derivative of a loss function wrt the trainable parameter.\n",
    "\n",
    "\n",
    "\n",
    "## Objective\n",
    "In this notebook, the objective is to obtain a testing performance of the `LeNet` model on the KMNIST dataset.\n",
    "To achieve this, we will define our model and train it from scratch.\n",
    "\n",
    "We will introduce the steps which must be implemented when working with a supervised learning pipeline:\n",
    "- Data preparation\n",
    "- Model architecture\n",
    "- Training algorithm\n",
    "- Testing algorithm\n",
    "\n",
    "\n",
    "## Dataset\n",
    "\n",
    "We use the KMNIST dataset which is a supervised learning classification task.\n",
    "The dataset consists of 60,000 images of size 28x28 and 10 classes.\n",
    "\n",
    "\n",
    "## Requirements\n",
    "\n",
    "Basic knowledge in pytorch, follow this introduction if necessary: https://pytorch.org/tutorials/beginner/deep_learning_60min_blitz.html\n",
    "\n",
    "- Make sure that torch and torchvision are installed in version:\n",
    "`torch==1.10.1` and `torchvision==0.11.2`\n"
   ]
  },
  {
   "cell_type": "code",
   "execution_count": 115,
   "id": "d74ef311",
   "metadata": {},
   "outputs": [
    {
     "name": "stdout",
     "output_type": "stream",
     "text": [
      "torch==1.10.2\n",
      "torchvision==0.11.3\n",
      "numpy==1.20.1\n",
      "matplotlib==3.3.4\n"
     ]
    }
   ],
   "source": [
    "import numpy as np\n",
    "import torch\n",
    "import torchvision\n",
    "import matplotlib as mpl\n",
    "import matplotlib.pyplot as plt\n",
    "from torch.utils.data.sampler import SubsetRandomSampler\n",
    "import torchvision.transforms as transforms\n",
    "\n",
    "import torch.nn as nn\n",
    "import torch.nn.functional as F\n",
    "import torch.optim as optim\n",
    "from torch.nn import Module\n",
    "from torch import nn\n",
    "import torch.nn.functional as F\n",
    "opts= {\n",
    "    \"batch_size\":64,\n",
    "    \"loss_fun\": nn.CrossEntropyLoss,\n",
    "    \"optimizer_fun\":optim.SGD,\n",
    "    \"optimizer_opts\":{\"lr\":0.01, \"momentum\":0.9}\n",
    "}\n",
    "print(\"torch=={}\".format(torch.__version__))\n",
    "print(\"torchvision=={}\".format(torchvision.__version__))\n",
    "print(\"numpy=={}\".format(np.__version__))\n",
    "print(\"matplotlib=={}\".format(mpl.__version__))"
   ]
  },
  {
   "cell_type": "markdown",
   "id": "d319c2fa",
   "metadata": {},
   "source": [
    "In this part the goal is to define, train and test a convolutional neural network on a classification dataset.\n",
    "We introduce the key steps required to train and test any deep neural network architecture:\n",
    "\n",
    "- Data preparation\n",
    "- Model architecture\n",
    "- Training algorithm\n",
    "- Testing algorithm\n",
    "\n",
    "\n",
    "For demonstration purpose, we use a supervised learning task on the KMNIST dataset.\n",
    "The dataset can be downloaded as shown below:"
   ]
  },
  {
   "cell_type": "code",
   "execution_count": 116,
   "id": "0a8c950f",
   "metadata": {},
   "outputs": [
    {
     "name": "stdout",
     "output_type": "stream",
     "text": [
      "Training tensor shape: 60000 28 28\n",
      "Number of classes: 10\n",
      "Example images:\n"
     ]
    },
    {
     "data": {
      "image/png": "[encoded data removed]",
      "text/plain": [
       "<Figure size 432x288 with 25 Axes>"
      ]
     },
     "metadata": {
      "needs_background": "light"
     },
     "output_type": "display_data"
    }
   ],
   "source": [
    "# Download and parse the dataset\n",
    "# When working with images, the torchvision package provides useful tools to manipulate and convert image formats.\n",
    "transform = transforms.Compose(\n",
    "    [transforms.ToTensor()])\n",
    "\n",
    "# Torchvision also distributes reference datasets represented in torch compatible objects\n",
    "# We will save the downloaded dataset (~73MB) in a parent folder, in case we need it in another lab\n",
    "trainset = torchvision.datasets.KMNIST(root='../data', train=True, download=True, transform=transform)\n",
    "testset = torchvision.datasets.KMNIST(root='../data', train=False, download=True, transform=transform)\n",
    "\n",
    "# We can look at our data dimension and plot some example images\n",
    "n_samples,h,w = trainset.data.shape\n",
    "print(\"Training tensor shape:\", n_samples, h, w)\n",
    "print(\"Number of classes:\",len(trainset.classes))\n",
    "print(\"Example images:\")\n",
    "\n",
    "plt.figure()\n",
    "for i in range(25):\n",
    "    ax=plt.subplot(5,5,i+1)\n",
    "    img = trainset.data[i]\n",
    "    ax.imshow(img, cmap=\"Greys\")\n",
    "    ax.axis('off')\n",
    "plt.savefig(\"KMNIST.png\")\n",
    "plt.show()"
   ]
  },
  {
   "cell_type": "markdown",
   "id": "fb896890",
   "metadata": {},
   "source": [
    "## Step 1: Data preparation\n",
    "\n",
    "Once the dataset is downloaded, the first step is typically to cast the data into classes specifically design for model training.\n",
    "\n",
    "Such classes are helpful to abstract batch-level operations such as shuffling, parsing, batch spliting, batch \n",
    "normalization.\n",
    "\n",
    "In `torch`, such a class is called `DataLoader` and is implemented in [`torch.utils.data.DataLoader`](https://pytorch.org/docs/stable/data.html?highlight=dataloader#torch.utils.data.DataLoader)\n",
    "\n",
    "- Task 1: Create `DataLoader` instances built on the training and testing datasets. The dataloader should be initialized such that it shuffles the input samples, and use a batch size of `64` samples."
   ]
  },
  {
   "cell_type": "code",
   "execution_count": 117,
   "id": "0f68677f",
   "metadata": {},
   "outputs": [],
   "source": [
    "from torch.utils.data import DataLoader\n",
    "trainloader = DataLoader(trainset, batch_size = 64, shuffle = True)\n",
    "testloader = DataLoader(testset, batch_size = 64, shuffle = True)"
   ]
  },
  {
   "cell_type": "code",
   "execution_count": 118,
   "id": "fccf2faf",
   "metadata": {},
   "outputs": [
    {
     "name": "stdout",
     "output_type": "stream",
     "text": [
      "torch.Size([64, 1, 28, 28])\n",
      "torch.Size([64])\n"
     ]
    }
   ],
   "source": [
    "for index, (data_x, data_y) in enumerate(trainloader):\n",
    "    print(data_x.shape)\n",
    "    print(data_y.shape)\n",
    "    break"
   ]
  },
  {
   "cell_type": "markdown",
   "id": "5633d179",
   "metadata": {},
   "source": [
    "## Step 2: Model definition\n",
    "\n",
    "Once the dataset is downloaded and cast in the right data structure, we must define the model which will process the data batches.\n",
    "\n",
    "In pytorch, models are implemented by inheriting the `nn.Module` class.\n",
    "When implementing a new model in pytorch, one must define the different layers and activation functions and forward pass computation. The nice thing about using a deep learning toolbox is that the forward pass and the gradient computation of the most famous layer types are readily available.\n",
    "\n",
    "For this step we will implement the LeNet neural network architecture.\n",
    "\n",
    "- Task 2: Implement the LeNet architecture using the class skeleton provided below. The details of the model, can be found here: http://yann.lecun.com/exdb/publis/pdf/lecun-01a.pdf. The main part of the class is defined for you and you are left with the implementation of the last dense layer which takes as input 84-dimensional features and outputs 10-dimensional target vectors.\n",
    "\n",
    "\n",
    "Hint:\n",
    "- All the required layer class are implemented in pytorch in the `nn` module.\n",
    "- Functional for relu can be found in the `nn.functional` module.\n",
    "- The useful classes are: \n",
    "    - nn.Linear\n",
    "    - F.relu"
   ]
  },
  {
   "cell_type": "code",
   "execution_count": 119,
   "id": "128220ed",
   "metadata": {},
   "outputs": [
    {
     "name": "stdout",
     "output_type": "stream",
     "text": [
      "torch.Size([64, 10])\n"
     ]
    }
   ],
   "source": [
    "\"\"\" Network definition\n",
    "    The role of the Net class is to compute the forward pass of a batch of images.\n",
    "    \n",
    "    The __init__ function is called when the class is instanciated.\n",
    "        It must contain the declaration of the different trainable and non trainable layers.\n",
    "        The layers must be defined as attributes (fields) of the Net class.\n",
    "        This function can take the network's hyper-parameters as arguments.\n",
    "        Here we use a famous network so we can hard code the layer's sizes.\n",
    "        The activation and pooling functions can be defined here or in the forward function.\n",
    "    \n",
    "    The forward function is called when we want a batch of images to pass through the network layers.\n",
    "        It is where we describe the architecture of the network by chaining the layers together.\n",
    "        It must take a batch as input, and output the network's prediction.\n",
    "\"\"\"\n",
    "\n",
    "\n",
    "# Task 2\n",
    "class Net(Module):\n",
    "    def __init__(self):\n",
    "        super(Net, self).__init__()\n",
    "        # The images are black/white, i.e. only 1 channel is required as input to the first convolutional layer.\n",
    "        # As is depicted on the image, the first layer outputs 6 channels.\n",
    "        # The intermediate feature map size is 28, and we have image of size 28 in the input\n",
    "        # (as opposed to 32 mentioned in the original architecture)\n",
    "        # To get the correct size in the first intermediate feature map the kernel can be 5 samples wide\n",
    "        # and the input image padded with 2 samples in each direction\n",
    "        self.conv1 = nn.Conv2d(1, 6, 5, padding = 2)\n",
    "        self.conv2 = nn.Conv2d(6, 16, 5)\n",
    "                \n",
    "        # At this stage, the network stops reducing the feature map sizes with pooling layers,\n",
    "        # We aggregate all the remaining samples and continue with dense layers\n",
    "        # How many samples are left at the input of the first dense layer ?\n",
    "        self.fc1 = nn.Linear(400, 120)\n",
    "        self.fc2 = nn.Linear(120, 84)\n",
    "        self.fc3 = nn.Linear(84, 10)\n",
    "    \n",
    "    def forward(self, x):\n",
    "        y = F.relu(self.conv1(x))\n",
    "        # As mentioned in the paper, the subsampling operation keeps the maximum value in 2 x 2 patches of image.\n",
    "\n",
    "        y = F.max_pool2d(y, (2, 2))\n",
    "        y = F.relu(self.conv2(y))\n",
    "        y = F.max_pool2d(y, (2, 2))\n",
    "        \n",
    "        # Aggregate (flatten) all the remaining extracted feature maps\n",
    "        y = y.view(y.shape[0], -1)\n",
    "        #print(y.shape)\n",
    "        y = self.fc1(y)\n",
    "        y = self.fc2(y)\n",
    "        y = self.fc3(y)\n",
    "        \n",
    "        return y\n",
    "\n",
    "# Instantiation, (call the __init__ function of the class)\n",
    "net = Net()\n",
    "\n",
    "if __name__ == '__main__':\n",
    "    tmp = torch.rand(64, 1, 28, 28)\n",
    "    net = Net()\n",
    "    outputs = net(tmp)\n",
    "    print(outputs.shape)"
   ]
  },
  {
   "cell_type": "code",
   "execution_count": 120,
   "id": "0a8bd46f",
   "metadata": {},
   "outputs": [
    {
     "name": "stdout",
     "output_type": "stream",
     "text": [
      "Number of parameter tensors: 2\n",
      "Kernel tensor shape: torch.Size([6, 1, 5, 5])\n",
      "Kernel number of parameters: 150\n",
      "Bias tensor shape: torch.Size([6])\n"
     ]
    }
   ],
   "source": [
    "from operator import mul\n",
    "from functools import reduce\n",
    "\n",
    "l=nn.Conv2d(1, 6, 5, padding=2, bias=True)\n",
    "params=[ll for ll in l.parameters()]\n",
    "print(\"Number of parameter tensors:\",len(params))\n",
    "print(\"Kernel tensor shape:\", params[0].shape)\n",
    "print(\"Kernel number of parameters:\",reduce(mul,params[0].shape))\n",
    "try:\n",
    "    print(\"Bias tensor shape:\", params[1].shape)\n",
    "except:\n",
    "    pass"
   ]
  },
  {
   "cell_type": "markdown",
   "id": "91ff75cf",
   "metadata": {},
   "source": [
    "## Step 3: Training loop\n",
    "\n",
    "Now the data object are created and the network architecture is implemented.\n",
    "Before our network can be trained, we must define the optimization criterion, the type of optimizer we will use and finally, write the training algorithm.\n",
    "\n",
    "The optimization criterion we use is the `CrossEntropyLoss` from the `torch.nn` module.\n",
    "The optimizer we use is the stochastic gradient descent `SGD`from the `torch.optim` module.\n",
    "\n",
    "- Task 3: Your task is now to write the training loop for our neural network architecture.\n",
    "\n",
    "Hint:\n",
    "The training procedure may be decomposed into the following steps:\n",
    "\n",
    "- Forward pass\n",
    "- Loss evaluation\n",
    "- Gradient computation\n",
    "- Parameters update"
   ]
  },
  {
   "cell_type": "code",
   "execution_count": 121,
   "id": "41a7d690",
   "metadata": {},
   "outputs": [
    {
     "name": "stdout",
     "output_type": "stream",
     "text": [
      "[1,   200] loss: 289.112\n",
      "[1,   400] loss: 98.835\n",
      "[1,   600] loss: 68.961\n",
      "[1,   800] loss: 55.877\n",
      "[2,   200] loss: 43.285\n",
      "[2,   400] loss: 41.033\n",
      "[2,   600] loss: 39.459\n",
      "[2,   800] loss: 35.666\n",
      "[3,   200] loss: 32.914\n",
      "[3,   400] loss: 32.621\n",
      "[3,   600] loss: 29.432\n",
      "[3,   800] loss: 30.845\n",
      "[4,   200] loss: 25.963\n",
      "[4,   400] loss: 26.331\n",
      "[4,   600] loss: 25.555\n",
      "[4,   800] loss: 26.251\n",
      "[5,   200] loss: 21.861\n",
      "[5,   400] loss: 22.835\n",
      "[5,   600] loss: 22.894\n",
      "[5,   800] loss: 22.534\n",
      "[6,   200] loss: 20.494\n",
      "[6,   400] loss: 20.839\n",
      "[6,   600] loss: 20.320\n",
      "[6,   800] loss: 20.340\n",
      "[7,   200] loss: 16.057\n",
      "[7,   400] loss: 19.246\n",
      "[7,   600] loss: 20.129\n",
      "[7,   800] loss: 19.477\n",
      "[8,   200] loss: 15.888\n",
      "[8,   400] loss: 16.980\n",
      "[8,   600] loss: 17.904\n",
      "[8,   800] loss: 19.129\n",
      "[9,   200] loss: 15.751\n",
      "[9,   400] loss: 16.333\n",
      "[9,   600] loss: 17.131\n",
      "[9,   800] loss: 17.182\n",
      "[10,   200] loss: 14.799\n",
      "[10,   400] loss: 15.642\n",
      "[10,   600] loss: 16.018\n",
      "[10,   800] loss: 16.266\n",
      "Finished Training\n"
     ]
    }
   ],
   "source": [
    "# Instantiation of the loss function defined in the `opts` dictionary\n",
    "criterion = opts[\"loss_fun\"]()\n",
    "\n",
    "# Instantiation of the optimizer with all the network's trainable parameters as arguments\n",
    "optimizer = opts[\"optimizer_fun\"](net.parameters(), **opts[\"optimizer_opts\"])\n",
    "\n",
    "\n",
    "\n",
    "# Task 3\n",
    "for epoch in range(10):  # loop over the dataset multiple times\n",
    "    running_loss = 0.0\n",
    "    for i, data in enumerate(trainloader, 0):\n",
    "        # get the inputs; data is a list of [inputs, labels]\n",
    "        inputs, labels = data\n",
    "\n",
    "        # We want the gradients of each batches to be calculated independently. \n",
    "        # We discard previously computed gradients by setting them to 0\n",
    "        optimizer.zero_grad()\n",
    "\n",
    "        ####\n",
    "        # forward + evaluation + backward + optimize\n",
    "        ####\n",
    "        \n",
    "        # During the forward pass, pytorch automatically accumulates the gradient of the output of each layer \n",
    "        # with respect to its input.\n",
    "        outputs = net(inputs)\n",
    "        \n",
    "        # The loss can be evaluated by simply calling the criterion function with both the predicted and true labels\n",
    "        loss = criterion(outputs, labels)\n",
    "        \n",
    "        # The final quantity required to run the update rule on the trainable parameters is the gradient of the loss\n",
    "        # with respect to the parameters. The appropriate gradients must have been accumulated during the forward pass\n",
    "        # and what this next step does is apply the chain rule.\n",
    "        loss.backward()\n",
    "        \n",
    "        # Once the gradients are calculated, we can perform a step of the update rule using the optimizer object:\n",
    "        optimizer.step()\n",
    "        \n",
    "        \n",
    "        # Print statistics\n",
    "        running_loss += loss.item()\n",
    "        if i % 200 == 199:    # print every 200 mini-batches\n",
    "            print('[%d, %5d] loss: %.3f' %\n",
    "                  (epoch + 1, i + 1, running_loss))\n",
    "            running_loss = 0.0\n",
    "\n",
    "print('Finished Training')\n"
   ]
  },
  {
   "cell_type": "markdown",
   "id": "d7438e6c",
   "metadata": {},
   "source": [
    "# Gradient computation in pytorch\n",
    "Let us investigate the backward gradient pass a bit more.\n",
    "You will find a detailed explaination of backpropagation in pytorch [here](https://amsword.medium.com/understanding-pytorchs-autograd-with-grad-fn-and-next-functions-b2c4836daa00)\n",
    "\n",
    "<img src=\"./LeTweet.png\" width=\"500\">\n",
    "\n",
    "\n",
    "## A simple example first\n",
    "\n",
    "Let us go look at a simple example taken from [here](https://amsword.medium.com/understanding-pytorchs-autograd-with-grad-fn-and-next-functions-b2c4836daa00)\n",
    "\n",
    "We define a simple differentiable operation:\n",
    "- the element wise multiplication of two tensors (`z=x*y`)\n",
    "- followed by the sum of the resulting elements (`l=z.sum()`).\n",
    "\n",
    "The result tensor `l` has a `.grad_fn` attribute.\n",
    "The `l.grad_fn` object has a next_functions attribute.\n",
    "This will help us iterate backward on the computation graph, until we encounter the trainable weights (the leafs of the graph).\n",
    "\n",
    "We would like to calculate the gradient of this operation wrt the two initial tensors.\n",
    "- We first compute the gradients with a call to `.backward()`\n",
    "- then we compute the gradients by iterating through the compute graph using the `grad_fn` attribute of the final tensor."
   ]
  },
  {
   "cell_type": "code",
   "execution_count": 122,
   "id": "dfa14e32",
   "metadata": {},
   "outputs": [
    {
     "name": "stdout",
     "output_type": "stream",
     "text": [
      "Gradient computed after the .backward() call:\n",
      "tensor([[ 0.7185],\n",
      "        [-0.6985]])\n",
      "tensor([[-1.8744],\n",
      "        [-0.9937]])\n",
      "\n",
      "Gradient computed after manual backprop on the compute graph:\n",
      "tensor([[ 0.7185],\n",
      "        [-0.6985]], grad_fn=<CopyBackwards>)\n",
      "tensor([[-1.8744],\n",
      "        [-0.9937]], grad_fn=<CopyBackwards>)\n"
     ]
    }
   ],
   "source": [
    "torch.manual_seed(6)\n",
    "x = torch.randn(2, 1, requires_grad=True)\n",
    "y = torch.randn(2, 1, requires_grad=True)\n",
    "z = x * y\n",
    "l = z.sum()\n",
    "l.backward()\n",
    "print(\"Gradient computed after the .backward() call:\")\n",
    "print(x.grad)\n",
    "print(y.grad)\n",
    "print()\n",
    "\n",
    "\n",
    "torch.manual_seed(6)\n",
    "x = torch.randn(2, 1, requires_grad=True)\n",
    "y = torch.randn(2, 1, requires_grad=True)\n",
    "z = x * y\n",
    "l = z.sum()\n",
    "\n",
    "dl = torch.tensor(1.)\n",
    "\n",
    "back_sum = l.grad_fn\n",
    "dz = back_sum(dl)\n",
    "back_mul = back_sum.next_functions[0][0]\n",
    "dx, dy = back_mul(dz)\n",
    "back_x = back_mul.next_functions[0][0]\n",
    "back_x(dx)\n",
    "\n",
    "back_y = back_mul.next_functions[1][0]\n",
    "back_y(dy)\n",
    "\n",
    "print(\"Gradient computed after manual backprop on the compute graph:\")\n",
    "print(x.grad)\n",
    "print(y.grad)"
   ]
  },
  {
   "cell_type": "markdown",
   "id": "2725afa5",
   "metadata": {},
   "source": [
    "We see that both approaches lead to the same gradients."
   ]
  },
  {
   "cell_type": "markdown",
   "id": "407ea0aa",
   "metadata": {},
   "source": [
    "## A more systematic investigation"
   ]
  },
  {
   "cell_type": "code",
   "execution_count": 123,
   "id": "3f5e3150",
   "metadata": {},
   "outputs": [
    {
     "name": "stdout",
     "output_type": "stream",
     "text": [
      "0 ; <NllLossBackward0 object at 0x7faafc3c5fa0>\n",
      "1 ; <LogSoftmaxBackward0 object at 0x7faafc3d10a0>\n",
      "2 ; <AddmmBackward0 object at 0x7fab01e810d0>\n",
      "3 ; Leaf <AccumulateGrad object at 0x7fab01e81a90>\n",
      "3 ; <AddmmBackward0 object at 0x7fab01e81a30>\n",
      "4 ; Leaf <AccumulateGrad object at 0x7fab01e81e20>\n",
      "4 ; <AddmmBackward0 object at 0x7fab01e81b80>\n",
      "5 ; Leaf <AccumulateGrad object at 0x7fab01e5a4f0>\n",
      "5 ; <ViewBackward0 object at 0x7fab01e5a1f0>\n",
      "6 ; <MaxPool2DWithIndicesBackward0 object at 0x7fab01e5a0d0>\n",
      "7 ; <ReluBackward0 object at 0x7fab01e5ab80>\n",
      "8 ; <MkldnnConvolutionBackward0 object at 0x7fab01e81fd0>\n",
      "9 ; <MaxPool2DWithIndicesBackward0 object at 0x7fab01e81d00>\n",
      "10 ; <ReluBackward0 object at 0x7fab01e81670>\n",
      "11 ; <MkldnnConvolutionBackward0 object at 0x7faafc3d1160>\n",
      "12 ; Leaf <AccumulateGrad object at 0x7fab01ea5040>\n",
      "12 ; Leaf <AccumulateGrad object at 0x7fab01ea5070>\n",
      "9 ; Leaf <AccumulateGrad object at 0x7fab01e81730>\n",
      "9 ; Leaf <AccumulateGrad object at 0x7fab01e81850>\n",
      "5 ; <TBackward0 object at 0x7fab01e5a8b0>\n",
      "6 ; Leaf <AccumulateGrad object at 0x7fab01e81d00>\n",
      "4 ; <TBackward0 object at 0x7fab01e81e80>\n",
      "5 ; Leaf <AccumulateGrad object at 0x7fab01e81700>\n",
      "3 ; <TBackward0 object at 0x7fab01e817f0>\n",
      "4 ; Leaf <AccumulateGrad object at 0x7fab01de77f0>\n"
     ]
    }
   ],
   "source": [
    "# We take the last inputs batch we encountered and run it through the network once again\n",
    "outputs = net(inputs)\n",
    "\n",
    "# We evaluate the loss \n",
    "loss = criterion(outputs, labels)\n",
    "\n",
    "# The loss object contains a grad_fn attribute.\n",
    "grad_fn = loss.grad_fn\n",
    "\n",
    "# We write an recursive function to print the gradient computation functions we encounter.\n",
    "# The functions named \"AccumulateGrad\" inform us that we have reached a Leaf node.\n",
    "# When the leaf nodes are reached, the .grad attribute of the current tensor is ready to be populated with their gradient.\n",
    "def print_back_fun(fun,i):\n",
    "    if fun is None: \n",
    "        # Not sure why/when these None attributes occur\n",
    "        pass\n",
    "    \n",
    "    elif fun.next_functions == (): \n",
    "        # When the list of next_functions is empty we reached a Leaf node, i.e. a parameter tensor\n",
    "        print(i,\";\",\"Leaf\",fun)\n",
    "        \n",
    "    else:\n",
    "        # Print the current grad function and the depth of the recursion\n",
    "        print(i,\";\", fun)\n",
    "        # Iterate through the rest of the graph recursively, increase the depth of the recursion by 1\n",
    "        list(map(lambda x: print_back_fun(x[0],i+1), fun.next_functions))\n",
    "\n",
    "\n",
    "print_back_fun(grad_fn,0)"
   ]
  },
  {
   "cell_type": "markdown",
   "id": "f47822b4",
   "metadata": {},
   "source": [
    "We encounter 10 leaf nodes, which corresponds to the number of parameter tensors in our network:"
   ]
  },
  {
   "cell_type": "code",
   "execution_count": 124,
   "id": "1b2e1c04",
   "metadata": {},
   "outputs": [
    {
     "name": "stdout",
     "output_type": "stream",
     "text": [
      "Number of parameter tensors 10 :\n"
     ]
    },
    {
     "data": {
      "text/plain": [
       "[torch.Size([6, 1, 5, 5]),\n",
       " torch.Size([6]),\n",
       " torch.Size([16, 6, 5, 5]),\n",
       " torch.Size([16]),\n",
       " torch.Size([120, 400]),\n",
       " torch.Size([120]),\n",
       " torch.Size([84, 120]),\n",
       " torch.Size([84]),\n",
       " torch.Size([10, 84]),\n",
       " torch.Size([10])]"
      ]
     },
     "execution_count": 124,
     "metadata": {},
     "output_type": "execute_result"
    }
   ],
   "source": [
    "the_params=[p.shape for p in net.parameters()]\n",
    "print(\"Number of parameter tensors\",len(the_params),\":\")\n",
    "the_params"
   ]
  },
  {
   "cell_type": "markdown",
   "id": "be7d5f6a",
   "metadata": {},
   "source": [
    "This means that, even before calling the `.backward()` function, the intermediate gradients are computed and stored during the forward pass.\n",
    "The call to `.backward()` triggers the computation of the chain rule for each Leaf node (parameter tensor) of the computation graph we displayed above.\n"
   ]
  },
  {
   "cell_type": "markdown",
   "id": "4eecc4b6",
   "metadata": {},
   "source": [
    "# Step 4: Testing algorithm\n",
    "\n",
    "Now that our network has been trained, we can measure the performance on the held out test dataset.\n",
    "The measure which we will use is the accuracy.\n",
    "\n",
    "- Task 4: Write the code necessary to compute the accuracy on the held out test set.\n",
    "\n",
    "Hint:\n",
    " - To avoid unnecessary computations, make sure that the gradient is not computed while the test samples pass through the network.\n",
    " - A probabilistic interpretation of the network's output is not required when computing the accuracy. All we need is the index of the largest output. To get the probabilistic interpretation you can use a softmax."
   ]
  },
  {
   "cell_type": "code",
   "execution_count": 125,
   "id": "ff513fd2",
   "metadata": {},
   "outputs": [
    {
     "name": "stdout",
     "output_type": "stream",
     "text": [
      "torch.Size([64])\n"
     ]
    }
   ],
   "source": [
    "a = torch.rand(64, 10)\n",
    "tmp = torch.max(a, 1)\n",
    "print(tmp.indices.shape)"
   ]
  },
  {
   "cell_type": "code",
   "execution_count": 131,
   "id": "7a641961",
   "metadata": {},
   "outputs": [
    {
     "name": "stdout",
     "output_type": "stream",
     "text": [
      "with torch.no_grad()\n",
      "Accuracy of the network on the 10000 test images: 91 %\n",
      "runtime: 1.113 sec\n"
     ]
    }
   ],
   "source": [
    "# Accuracy score\n",
    "# Task 4\n",
    "from datetime import datetime\n",
    "\n",
    "total=0\n",
    "correct=0\n",
    "start_time = datetime.now()\n",
    "print(\"with torch.no_grad()\")\n",
    "# To avoid the computation of the gradients during the forward pass,\n",
    "# We use the torch.no_grad() environment\n",
    "with torch.no_grad():\n",
    "    for data in testloader:\n",
    "        y = net(data[0])\n",
    "        #softmax = torch.nn.Softmax()\n",
    "\n",
    "        pred = torch.max(y, 1)\n",
    "        #pred_tmp = torch.max(softmax(y), 0)\n",
    "        correct += sum(pred.indices == data[1])\n",
    "        #print(sum(pred.indices == data[1]))\n",
    "        total += len(pred.indices)\n",
    "\n",
    "elapsed=(datetime.now()-start_time).total_seconds()\n",
    "\n",
    "print('Accuracy of the network on the 10000 test images: %d %%' % (\n",
    "    100 * correct / total))\n",
    "print(\"runtime: {:.3f} sec\".format(elapsed))"
   ]
  },
  {
   "cell_type": "markdown",
   "id": "6396d704",
   "metadata": {},
   "source": [
    "## with or without torch.no_grad() ?"
   ]
  },
  {
   "cell_type": "code",
   "execution_count": 132,
   "id": "0b231ef4",
   "metadata": {},
   "outputs": [
    {
     "name": "stdout",
     "output_type": "stream",
     "text": [
      "without torch.no_grad()\n",
      "Accuracy of the network on the 10000 test images: 91 %\n",
      "runtime: 1.111 sec\n"
     ]
    }
   ],
   "source": [
    "print(\"without torch.no_grad()\")\n",
    "\n",
    "total=0\n",
    "correct=0\n",
    "start_time = datetime.now()\n",
    "# To avoid the computation of the gradients during the forward pass,\n",
    "# We use the torch.no_grad() environment\n",
    "#with torch.no_grad():\n",
    "for data in testloader:\n",
    "    y = net(data[0])\n",
    "    pred = torch.max(y, 1)\n",
    "    correct += sum(pred.indices == data[1])\n",
    "    total += len(pred.indices)\n",
    "\n",
    "elapsed=(datetime.now()-start_time).total_seconds()\n",
    "print('Accuracy of the network on the 10000 test images: %d %%' % (\n",
    "    100 * correct / total))\n",
    "print(\"runtime: {:.3f} sec\".format(elapsed))\n"
   ]
  },
  {
   "cell_type": "markdown",
   "id": "ca33f4f8",
   "metadata": {},
   "source": [
    "We see that when torch.no_grad() is used, the output tensors are not populated with the gradient functions `grad_fn`. This means that the gradients are not computed during the forward pass. The memory consumption of the forward pass is thus reduced. For large models you can expect a gain in runtime and memory footprint."
   ]
  }
 ],
 "metadata": {
  "kernelspec": {
   "display_name": "Python 3",
   "language": "python",
   "name": "python3"
  },
  "language_info": {
   "codemirror_mode": {
    "name": "ipython",
    "version": 3
   },
   "file_extension": ".py",
   "mimetype": "text/x-python",
   "name": "python",
   "nbconvert_exporter": "python",
   "pygments_lexer": "ipython3",
   "version": "3.8.8"
  }
 },
 "nbformat": 4,
 "nbformat_minor": 5
}
