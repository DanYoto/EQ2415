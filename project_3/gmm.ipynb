{
 "cells": [
  {
   "cell_type": "code",
   "execution_count": 132,
   "metadata": {},
   "outputs": [],
   "source": [
    "import numpy as np\n",
    "import math"
   ]
  },
  {
   "cell_type": "code",
   "execution_count": 133,
   "metadata": {},
   "outputs": [],
   "source": [
    "def calculate_Gaussian_P(xn, u, var):\n",
    "    \"\"\"\n",
    "    input: 3 scalar\n",
    "    \"\"\"\n",
    "    return (1/np.sqrt(2*math.pi*var))*np.exp(-(xn - u)**2/2/var)\n",
    "\n",
    "def calculate_gamma(X, u, var, pi):\n",
    "    \"\"\"\n",
    "    input: \n",
    "        X: array, (N, 1)\n",
    "        u, var, pi: array, (K, 1)\n",
    "    return:\n",
    "    gamma: (N, K) array\n",
    "    \"\"\"\n",
    "    gamma = np.zeros((len(X), len(u)))\n",
    "    for k in range(len(u)):\n",
    "        for n in range(len(X)):\n",
    "            sum = 0\n",
    "            for j in range(len(u)):\n",
    "                sum += pi[j] * calculate_Gaussian_P(X[n], u[j], var[j])\n",
    "            gamma_nk = pi[k] * calculate_Gaussian_P(X[n], u[k], var[k])/sum\n",
    "            gamma[n, k] = gamma_nk\n",
    "    return gamma\n",
    "\n",
    "def calculate_log_p(X, u, var, pi):\n",
    "    log_p = 0\n",
    "    for n in range(len(X)):\n",
    "        pn = 0\n",
    "        for k in range(len(u)):\n",
    "            pn += pi[k] * calculate_Gaussian_P(X[n], u[k], var[k])\n",
    "        log_p += np.log(pn)\n",
    "    return log_p\n"
   ]
  },
  {
   "cell_type": "code",
   "execution_count": 134,
   "metadata": {},
   "outputs": [],
   "source": [
    "def GMM(X, K):\n",
    "    \"\"\"\n",
    "    input: \n",
    "        X: (N, 1) array\n",
    "        K: scalar, number of klusters\n",
    "    \"\"\"\n",
    "    N = len(X)\n",
    "    interval = np.round(100/(K+1)).astype(int)\n",
    "    u_per = [i for i in range(interval, interval*K+1, interval)]\n",
    "    u = np.percentile(X, u_per)\n",
    "    var = np.ones(K) * 1.0\n",
    "    pi = np.ones(K)/K\n",
    "    log_p_last = calculate_log_p(X, u, var, pi)\n",
    "\n",
    "    for round in range(10):\n",
    "        # Estep:\n",
    "        gamma = calculate_gamma(X, u, var, pi)\n",
    "        # M-step:\n",
    "        for k in range(K):\n",
    "            gamma_k = gamma[:, k]\n",
    "            Nk = gamma_k.sum()\n",
    "            u_new = (gamma_k * X).sum() / Nk\n",
    "            u[k] = u_new\n",
    "            xn_uk = X - np.ones(N)*u_new\n",
    "            var[k] =  (gamma_k * xn_uk *xn_uk).sum() / Nk\n",
    "            pi[k] = Nk/N\n",
    "        log_p = calculate_log_p(X, u, var, pi)  \n",
    "        if log_p < log_p_last * 0.995:\n",
    "            break\n",
    "        log_p_last = log_p\n",
    "\n",
    "        print(\"log_p:\", calculate_log_p(X, u, var, pi))\n",
    "        print(\"u:\", u)\n",
    "        print(\"var:\", var)\n",
    "        print(\"pi:\", pi)"
   ]
  },
  {
   "cell_type": "code",
   "execution_count": 135,
   "metadata": {},
   "outputs": [
    {
     "name": "stdout",
     "output_type": "stream",
     "text": [
      "log_p: -10.946429301363722\n",
      "u: [ 1.50014869  8.50001127 20.5       ]\n",
      "var: [0.25096188 0.25000004 0.25      ]\n",
      "pi: [0.33334095 0.33332572 0.33333333]\n"
     ]
    }
   ],
   "source": [
    "X = np.array([1, 2, 8, 9, 20, 21])\n",
    "K = 3\n",
    "GMM(X, K)"
   ]
  }
 ],
 "metadata": {
  "kernelspec": {
   "display_name": "Python 3",
   "language": "python",
   "name": "python3"
  },
  "language_info": {
   "codemirror_mode": {
    "name": "ipython",
    "version": 3
   },
   "file_extension": ".py",
   "mimetype": "text/x-python",
   "name": "python",
   "nbconvert_exporter": "python",
   "pygments_lexer": "ipython3",
   "version": "3.8.8"
  },
  "vscode": {
   "interpreter": {
    "hash": "91f6a04488c6f6c893277af113acfe6c1e243656720881e8cb90c9c6953cd34f"
   }
  }
 },
 "nbformat": 4,
 "nbformat_minor": 2
}
